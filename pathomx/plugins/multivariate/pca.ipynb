{
 "metadata": {
  "name": "",
  "signature": "sha256:3d32dd20707020b13773fa4ad750eb46656ea376164786a95e4def4fbe8064d9"
 },
 "nbformat": 3,
 "nbformat_minor": 0,
 "worksheets": [
  {
   "cells": [
    {
     "cell_type": "markdown",
     "metadata": {},
     "source": [
      "Principal Component Analysis (PCA)\n",
      "==================================\n",
      "\n",
      "Principal component analysis using singular value decomposition (SVD). [Martin A. Fitzpatrick][]\n",
      "\n",
      "Introduction\n",
      "------------\n",
      "\n",
      "Principal component analysis (PCA) is a mathematical method for transforming a set of possibly-correlated observations into a set of linearly uncorrelated variables called \u2018principal components\u2019. The transformation is applied such that the largest variance is represented in the first principal component, with the next largest variance in the second orthogonal component.\n",
      "\n",
      "This plugin uses singular value decomposition (SVD) to generate a PCA model from source data. Data points are identified and colour-coded by the classes in the source data.\n",
      "\n",
      "Quick start\n",
      "-----------\n",
      "\n",
      "[Select source data][] and a PCA model will automatically be generated.\n",
      "\n",
      "  [Martin A. Fitzpatrick]: http://martinfitzpatrick.name/\n",
      "  [Select source data]: pathomx://@view.id/default_actions/data_source/add"
     ]
    },
    {
     "cell_type": "code",
     "collapsed": false,
     "input": [
      "from sklearn.decomposition import PCA\n",
      "\n",
      "pca = PCA(n_components=config['number_of_components'])\n",
      "pca.fit(input_data.values)"
     ],
     "language": "python",
     "metadata": {},
     "outputs": []
    },
    {
     "cell_type": "code",
     "collapsed": false,
     "input": [
      "import pandas as pd\n",
      "\n",
      "# Build scores into a dso no_of_samples x no_of_principal_components\n",
      "scores = pd.DataFrame( pca.transform(input_data.values) )\n",
      "scores.index = input_data.index\n",
      "\n",
      "columns = ['Principal Component %d (%0.2f%%)' % (n + 1, pca.explained_variance_ratio_[0] * 100.) for n in range(0, scores.shape[1]) ]\n",
      "scores.columns = columns\n",
      "\n",
      "weights = pd.DataFrame(pca.components_)\n",
      "weights.columns = input_data.columns\n",
      "\n",
      "\n",
      "dso_pc = {}\n",
      "weightsi = []\n"
     ],
     "language": "python",
     "metadata": {},
     "outputs": []
    },
    {
     "cell_type": "code",
     "collapsed": false,
     "input": [
      "# Generate simple result figure (using pathomx libs)\n",
      "from pathomx.figures import spectra, scatterplot\n",
      "\n",
      "for n in range(0, pca.components_.shape[0]):\n",
      "    pcd = pd.DataFrame( weights.values[n:n + 1, :] )\n",
      "    \n",
      "    pcd.columns = input_data.columns\n",
      "    vars()['PC%d' % (n+1)]  = spectra(pcd, styles=styles)\n",
      "\n",
      "    weightsi.append( \"PC %d\" % (n + 1) )\n",
      "    \n",
      "weights.index = weightsi\n",
      "Scores = scatterplot(scores, styles=styles)"
     ],
     "language": "python",
     "metadata": {},
     "outputs": []
    },
    {
     "cell_type": "code",
     "collapsed": false,
     "input": [
      "pcd = None; #\u00a0Clean up"
     ],
     "language": "python",
     "metadata": {},
     "outputs": []
    }
   ],
   "metadata": {}
  }
 ]
}