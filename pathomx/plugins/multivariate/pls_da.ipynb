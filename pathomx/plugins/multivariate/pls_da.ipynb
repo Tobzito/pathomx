{
 "metadata": {
  "name": "",
  "signature": "sha256:dfd170d61e83e6eb5f4b011925b220d521b886bf989c20b936079ce8001f296b"
 },
 "nbformat": 3,
 "nbformat_minor": 0,
 "worksheets": [
  {
   "cells": [
    {
     "cell_type": "markdown",
     "metadata": {},
     "source": [
      "Partial Least Squares Discriminant Analysis (PCA)\n",
      "=================================================\n",
      "\n",
      "Partial lease squares discriminant analysis. [Martin A. Fitzpatrick][]\n",
      "\n",
      "Introduction\n",
      "------------\n",
      "\n",
      "Partial least squares discriminant analysis (PLS-DA) is a modification of PLS to project multivariate data against\n",
      "a linear space created from binary classification. This notebook uses the PLS algorithm from `scikit-learn` to perform the analysis and produces scores and weights plots from the analysis.\n",
      "\n",
      "Quick start\n",
      "-----------\n",
      "\n",
      "[Select source data][] and a PLS-DA model will automatically be generated.\n",
      "\n",
      "  [Martin A. Fitzpatrick]: http://martinfitzpatrick.name/\n",
      "  [Select source data]: pathomx://@view.id/default_actions/data_source/add"
     ]
    },
    {
     "cell_type": "code",
     "collapsed": false,
     "input": [
      "from sklearn.cross_decomposition import PLSRegression\n",
      "\n",
      "import pandas as pd\n",
      "import numpy as np\n",
      "\n",
      "_experiment_test = config['experiment_test']\n",
      "_experiment_control = config['experiment_control']\n",
      "\n",
      "plsr = PLSRegression(n_components=config['number_of_components'], scale=config['autoscale']) #, algorithm=self.config.get('algorithm'))\n",
      "\n",
      "# We need classes to do the classification; should check and raise an error\n",
      "class_idx = input_data.index.names.index('Class')\n",
      "classes = list( input_data.index.levels[ class_idx ] )\n",
      "\n",
      "Y = input_data.index.labels[ class_idx ]\n",
      "\n",
      "plsr.fit(input_data.values, Y)\n",
      "\n",
      "# Build scores into a dso no_of_samples x no_of_principal_components\n",
      "scores = pd.DataFrame(plsr.x_scores_)  \n",
      "scores.index = input_data.index\n",
      "\n",
      "scoresl =[]\n",
      "for n,s in enumerate(plsr.x_scores_.T):\n",
      "    scoresl.append( 'Latent Variable %d' % (n+1) ) #, plsr.y_weights_[0][n]) \n",
      "scores.columns = scoresl\n",
      "    \n",
      "\n",
      "weights = pd.DataFrame( plsr.x_weights_.T )\n",
      "weights.columns = input_data.columns\n",
      "\n",
      "dso_lv = {}\n"
     ],
     "language": "python",
     "metadata": {},
     "outputs": []
    },
    {
     "cell_type": "code",
     "collapsed": false,
     "input": [
      "# Generate simple result figure (using pathomx libs)\n",
      "from pathomx.figures import spectra, scatterplot\n",
      "\n",
      "weightsdc=[]\n",
      "for n in range(0, plsr.x_weights_.shape[1] ):\n",
      "    lvd =  pd.DataFrame( plsr.x_weights_[:,n:n+1].T )\n",
      "    lvd.columns = input_data.columns\n",
      "    \n",
      "    vars()['LV%d' % (n+1)]  = spectra(lvd, styles=styles)\n",
      "    \n",
      "    #weightsdl.append(\"Weights on LV %s\" % (n+1))\n",
      "    weightsdc.append(\"LV %s\" % (n+1))\n",
      "\n",
      "weights.index = weightsdc\n",
      "\n",
      "Scores = scatterplot(scores, styles=styles)"
     ],
     "language": "python",
     "metadata": {},
     "outputs": []
    },
    {
     "cell_type": "code",
     "collapsed": false,
     "input": [
      "weightsd = None; #\u00a0Clean up\n",
      "lvd = None; #\u00a0Clean up"
     ],
     "language": "python",
     "metadata": {},
     "outputs": []
    }
   ],
   "metadata": {}
  }
 ]
}