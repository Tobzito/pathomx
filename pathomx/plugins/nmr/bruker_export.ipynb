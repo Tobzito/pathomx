{
 "metadata": {
  "kernelspec": {
   "codemirror_mode": {
    "name": "python",
    "version": 2
   },
   "display_name": "Python 2",
   "language": "python",
   "name": "python2"
  },
  "name": "",
  "signature": "sha256:6bb050f74c47dd5b406ac5520cba7a873d1960e310cd52172b42060fa15f31e4"
 },
 "nbformat": 3,
 "nbformat_minor": 0,
 "worksheets": [
  {
   "cells": [
    {
     "cell_type": "markdown",
     "metadata": {},
     "source": [
      "Bruker Export\n",
      "==========\n",
      "\n",
      "Export NMR spectroscopy data to Bruker format.\n",
      "[Martin A. Fitzpatrick][]"
     ]
    },
    {
     "cell_type": "code",
     "collapsed": false,
     "input": [
      "import os\n",
      "import pandas as pd\n",
      "import nmrglue as ng"
     ],
     "language": "python",
     "metadata": {},
     "outputs": []
    },
    {
     "cell_type": "code",
     "collapsed": false,
     "input": [
      "for n,dic in enumerate(dic_list):\n",
      "    data = input_data.values[n,:].flatten()\n",
      "\n",
      "    data = ng.proc_base.rev(data)               # reverse the data\n",
      "    data = ng.proc_base.ifft(data)   # Inverse Fourier transform\n",
      "\n",
      "\n",
      "    if 'acqus' not in dic:\n",
      "        raise ValueError(\"dictionary does not contain acqus parameters\")\n",
      "    if 'DECIM' not in dic['acqus']:\n",
      "        raise ValueError(\"dictionary does not contain DECIM parameter\")\n",
      "    decim = dic['acqus']['DECIM']\n",
      "    if 'DSPFVS' not in dic['acqus']:\n",
      "        raise ValueError(\"dictionary does not contain DSPFVS parameter\")\n",
      "    dspfvs = dic['acqus']['DSPFVS']\n",
      "    if 'GRPDLY' not in dic['acqus']:\n",
      "        grpdly = 0\n",
      "    else:\n",
      "        grpdly = dic['acqus']['GRPDLY']\n",
      "\n",
      "\n",
      "    if grpdly > 0: # use group delay value if provided (not 0 or -1)\n",
      "        phase = grpdly\n",
      "    # determind the phase correction\n",
      "    else:\n",
      "        if dspfvs >= 14: # DSPFVS greater than 14 give no phase correction.\n",
      "            phase = 0.\n",
      "        else: # loop up the phase in the table\n",
      "            if dspfvs not in ng.bruker.bruker_dsp_table:\n",
      "                raise ValueError(\"dspfvs not in lookup table\")\n",
      "            if decim not in ng.bruker.bruker_dsp_table[dspfvs]:\n",
      "                raise ValueError(\"decim not in lookup table\")\n",
      "            phase = ng.bruker.bruker_dsp_table[dspfvs][decim]\n",
      "\n",
      "\n",
      "    # Remove phase correcton\n",
      "    if 'PATHOMX_PHASE_CORRECT' in dic:\n",
      "        data = ng.process.proc_base.ps(data, p0=-dic['PATHOMX_PHASE_CORRECT'][0], p1=-dic['PATHOMX_PHASE_CORRECT'][1])\n",
      "        \n",
      "    data = ng.proc_base.fsh2(data, -phase)\n",
      "    data = data[0:16384]\n",
      "\n",
      "    ng.bruker.write( os.path.join(config['filename'],str(n+1)),dic,data,overwrite=True)\n",
      "    \n"
     ],
     "language": "python",
     "metadata": {},
     "outputs": []
    }
   ],
   "metadata": {}
  }
 ]
}