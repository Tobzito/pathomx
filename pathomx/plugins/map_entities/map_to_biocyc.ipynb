{
 "metadata": {
  "name": "",
  "signature": "sha256:3d7e03e8b7377399dcc3ffa23fb4af3a013b953d213ef271888910dfdad4d4e1"
 },
 "nbformat": 3,
 "nbformat_minor": 0,
 "worksheets": [
  {
   "cells": [
    {
     "cell_type": "markdown",
     "metadata": {},
     "source": [
      "Map to Biocyc\n",
      "=============\n",
      "\n",
      "Map named entities to BioCyc objects, to create an additional column annotation.\n",
      "[Martin A. Fitzpatrick][]\n",
      "\n",
      "\n",
      "\n",
      "  [Martin A. Fitzpatrick]: http://martinfitzpatrick.name/"
     ]
    },
    {
     "cell_type": "code",
     "collapsed": false,
     "input": [
      "from biocyc import biocyc\n",
      "import pandas as pd\n",
      "import os\n",
      "import csv\n",
      "\n",
      "biocyc.set_organism('HUMAN')\n",
      "\n",
      "notebook_path = os.path.dirname(_pathomx_notebook_path)"
     ],
     "language": "python",
     "metadata": {},
     "outputs": []
    },
    {
     "cell_type": "code",
     "collapsed": false,
     "input": [
      "def map_generator(table):\n",
      "    map_dict = {}\n",
      "    with open( os.path.join(notebook_path, table), 'rU') as f:\n",
      "        reader = csv.reader(f)\n",
      "        for row in reader:\n",
      "            map_dict[ row[1] ] = row[0]\n",
      "            \n",
      "    return lambda x: map_dict[x] if x in map_dict else None\n",
      "\n",
      "def reverse_map_generator(table):\n",
      "    map_dict = {}\n",
      "    with open( os.path.join(notebook_path, table), 'rU') as f:\n",
      "        reader = csv.reader(f)\n",
      "        for row in reader:\n",
      "            map_dict[ row[0] ] = row[1]\n",
      "            \n",
      "    return lambda x: map_dict[x] if x in map_dict else None"
     ],
     "language": "python",
     "metadata": {},
     "outputs": []
    },
    {
     "cell_type": "code",
     "collapsed": false,
     "input": [
      "lku = {\n",
      "    'Any': biocyc.find_by_name,\n",
      "    'Gene': biocyc.find_gene_by_name,\n",
      "    'Protein': biocyc.find_protein_by_name,\n",
      "    'Compound': biocyc.find_compound_by_name,\n",
      "    # ----\n",
      "    'BiGG': map_generator('bigg'),\n",
      "    'BioPath': map_generator('biopath'),\n",
      "    'BRENDA': map_generator('brenda'),\n",
      "    'FIMA': map_generator('fima'),\n",
      "    'HMDB': map_generator('hmdb'),\n",
      "    'KEGG': map_generator('kegg'),\n",
      "    'LIPID MAPS': map_generator('lipidmaps'),\n",
      "    'SEED': map_generator('seed'),\n",
      "    'UPA': map_generator('upa'),\n",
      "    }[config.get('map_object_type')]"
     ],
     "language": "python",
     "metadata": {},
     "outputs": []
    },
    {
     "cell_type": "code",
     "collapsed": false,
     "input": [
      "# Get the index; plus the existing one if available\n",
      "lidx = input_data.columns.names.index('Label')\n",
      "if type(input_data.columns) == pd.MultiIndex:\n",
      "    labels = [l[lidx] for l in input_data.columns.values ]\n",
      "\n",
      "    if 'BioCyc' in input_data.columns.names:\n",
      "        bidx = input_data.columns.names.index('BioCyc')\n",
      "        current_biocyc = [ l[bidx] for l in input_data.columns.values ]\n",
      "    else:\n",
      "        current_biocyc = [None] * len(labels)\n",
      "        \n",
      "else:\n",
      "    labels = input_data.columns.values\n",
      "    current_biocyc = [None] * len(labels)"
     ],
     "language": "python",
     "metadata": {},
     "outputs": []
    },
    {
     "cell_type": "markdown",
     "metadata": {},
     "source": [
      "Now iterate the labels, and if we find something assign to BioCyc.\n",
      "This won't overwrite existing labels if we don't find one, but will if we do"
     ]
    },
    {
     "cell_type": "code",
     "collapsed": false,
     "input": [
      "count = 0;\n",
      "for n, l in enumerate(labels):\n",
      "    if current_biocyc[n] is not None:\n",
      "        continue\n",
      "        \n",
      "    o = lku(l)\n",
      "    # Note that the BioCyc module returns an object, so we need to convert to ID if it is\n",
      "    if hasattr(o, 'id'):\n",
      "        current_biocyc[n] = o\n",
      "        count += 1;\n",
      " \n",
      "    elif type(o) is str:\n",
      "        try:\n",
      "            current_biocyc[n] = biocyc.get(o)\n",
      "        except:\n",
      "            current_biocyc[n] = None   \n",
      "        else:\n",
      "            count += 1;\n",
      "            \n",
      "    else:\n",
      "        current_biocyc[n] = None\n",
      "\n",
      "print(\"Matched %d identifiers\" % count)"
     ],
     "language": "python",
     "metadata": {},
     "outputs": [
      {
       "ename": "IndentationError",
       "evalue": "expected an indented block (<ipython-input-1-899eb081d2cb>, line 13)",
       "output_type": "pyerr",
       "traceback": [
        "\u001b[0;36m  File \u001b[0;32m\"<ipython-input-1-899eb081d2cb>\"\u001b[0;36m, line \u001b[0;32m13\u001b[0m\n\u001b[0;31m    else:\u001b[0m\n\u001b[0m    ^\u001b[0m\n\u001b[0;31mIndentationError\u001b[0m\u001b[0;31m:\u001b[0m expected an indented block\n"
       ]
      }
     ],
     "prompt_number": 1
    },
    {
     "cell_type": "markdown",
     "metadata": {},
     "source": [
      "Now perform cross-mapping if enabled."
     ]
    },
    {
     "cell_type": "code",
     "collapsed": false,
     "input": [
      "cross_maps = {}\n",
      "if 1 == 0:\n",
      "    for m,f in {'BiGG':'bigg','HMDB':'hmdb','KEGG':'kegg'}.items():\n",
      "        lku = reverse_map_generator(f)\n",
      "        cm = []\n",
      "        for o in current_biocyc:\n",
      "            if o:\n",
      "                nid = lku(o.id)\n",
      "                cm.append(nid)\n",
      "            else:\n",
      "                cm.append(None)\n",
      "\n",
      "        cross_maps[m] = cm   \n",
      "        print(\"Cross-mapped %s to %d identifiers\" % (m, len(cm)))"
     ],
     "language": "python",
     "metadata": {},
     "outputs": []
    },
    {
     "cell_type": "markdown",
     "metadata": {},
     "source": [
      "Now take a copy of the data and build a new index."
     ]
    },
    {
     "cell_type": "code",
     "collapsed": false,
     "input": [
      "output_data = input_data\n",
      "\n",
      "index_dict = {k:[v[output_data.columns.names.index(k)] for v in output_data.columns.values] for k in output_data.columns.names if k is not None}\n",
      "index_dict['Label'] = labels\n",
      "index_dict['BioCyc'] = current_biocyc\n",
      "for k,v in cross_maps.items():\n",
      "    index_dict[k] = v"
     ],
     "language": "python",
     "metadata": {},
     "outputs": []
    },
    {
     "cell_type": "code",
     "collapsed": false,
     "input": [
      "idx = pd.MultiIndex.from_tuples( zip(*index_dict.values()), names=index_dict.keys() )\n",
      "output_data.columns = idx"
     ],
     "language": "python",
     "metadata": {},
     "outputs": []
    },
    {
     "cell_type": "code",
     "collapsed": false,
     "input": [
      "output_data"
     ],
     "language": "python",
     "metadata": {},
     "outputs": []
    }
   ],
   "metadata": {}
  }
 ]
}