{
 "metadata": {
  "name": "",
  "signature": "sha256:be422bcced03d8bc71aea2cde2bfde2a4134662dac580133fb98b7b1b6801024"
 },
 "nbformat": 3,
 "nbformat_minor": 0,
 "worksheets": [
  {
   "cells": [
    {
     "cell_type": "markdown",
     "metadata": {},
     "source": [
      "Map to Biocyc\n",
      "=============\n",
      "\n",
      "Map named entities to BioCyc objects, to create an additional column annotation.\n",
      "[Martin A. Fitzpatrick][]\n",
      "\n",
      "\n",
      "\n",
      "  [Martin A. Fitzpatrick]: http://martinfitzpatrick.name/"
     ]
    },
    {
     "cell_type": "code",
     "collapsed": false,
     "input": [
      "from biocyc import biocyc\n",
      "import pandas as pd\n",
      "import os\n",
      "import csv\n",
      "\n",
      "biocyc.set_organism('HUMAN')\n",
      "\n",
      "notebook_path = os.path.dirname(_pathomx_notebook_path)\n",
      "\n",
      "def map_generator(table):\n",
      "    map_dict = {}\n",
      "    with open( os.path.join(notebook_path, table), 'rU') as f:\n",
      "        reader = csv.reader(f)\n",
      "        for row in reader:\n",
      "            map_dict[ row[1] ] = row[0]\n",
      "            \n",
      "    return lambda x: map_dict[x] if x in map_dict else None\n",
      "\n",
      "lku = {\n",
      "    'Any': biocyc.find_by_name,\n",
      "    'Gene': biocyc.find_gene_by_name,\n",
      "    'Protein': biocyc.find_protein_by_name,\n",
      "    'Compound': biocyc.find_compound_by_name,\n",
      "    # ----\n",
      "    'BiGG': map_generator('bigg'),\n",
      "    'BioPath': map_generator('biopath'),\n",
      "    'BRENDA': map_generator('brenda'),\n",
      "    'FIMA': map_generator('fima'),\n",
      "    'HMDB': map_generator('hmdb'),\n",
      "    'KEGG': map_generator('kegg'),\n",
      "    'LIPID MAPS': map_generator('lipidmaps'),\n",
      "    'SEED': map_generator('seed'),\n",
      "    'UPA': map_generator('upa'),\n",
      "    }[config.get('map_object_type')]\n",
      "\n",
      "\n",
      "# Get the index; plus the existing one if available\n",
      "if type(input_data.columns) == pd.MultiIndex:\n",
      "    labels = input_data.columns.values[ input_data.columns.names.index('Labels') ]\n",
      "    \n",
      "    if 'BioCyc' in input_data.columns.names:\n",
      "        current_biocyc = input_data.columns.values[ input_data.columns.names.index('Labels') ]\n",
      "    else:\n",
      "        current_biocyc = [None] * len(labels)\n",
      "    \n",
      "else:\n",
      "    labels = input_data.columns.values\n",
      "    current_biocyc = [None] * len(labels)\n"
     ],
     "language": "python",
     "metadata": {},
     "outputs": []
    },
    {
     "cell_type": "markdown",
     "metadata": {},
     "source": [
      "Now iterate the labels, and if we find something assign to BioCyc.\n",
      "This won't overwrite existing labels if we don't find one, but will if we do"
     ]
    },
    {
     "cell_type": "code",
     "collapsed": false,
     "input": [
      "for n, l in enumerate(labels):\n",
      "    o = lku(l)\n",
      "    # Note that the BioCyc module returns an object, so we need to convert to ID if it is\n",
      "    if hasattr(o, 'id'):\n",
      "        current_biocyc[n] = o\n",
      "    elif type(o) is str:\n",
      "        try:\n",
      "            current_biocyc[n] = biocyc.get(o)\n",
      "        except:\n",
      "            current_biocyc[n] = None   \n",
      "    else:\n",
      "        current_biocyc[n] = None"
     ],
     "language": "python",
     "metadata": {},
     "outputs": []
    },
    {
     "cell_type": "markdown",
     "metadata": {},
     "source": [
      "Now take a copy of the data and build a new index."
     ]
    },
    {
     "cell_type": "code",
     "collapsed": false,
     "input": [
      "output_data = input_data\n",
      "\n",
      "index_dict = {k:output_data.columns.values[ output_data.columns.names.index(k) ] for k in output_data.columns.names if k is not None}\n",
      "index_dict['Labels'] = labels\n",
      "index_dict['BioCyc'] = current_biocyc\n",
      "\n",
      "idx = pd.MultiIndex.from_tuples( zip(*index_dict.values()), names=index_dict.keys() )\n",
      "output_data.columns = idx\n",
      "output_data"
     ],
     "language": "python",
     "metadata": {},
     "outputs": []
    },
    {
     "cell_type": "code",
     "collapsed": false,
     "input": [
      "output_data.columns = idx"
     ],
     "language": "python",
     "metadata": {},
     "outputs": []
    }
   ],
   "metadata": {}
  }
 ]
}