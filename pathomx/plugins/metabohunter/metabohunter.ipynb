{
 "metadata": {
  "name": "",
  "signature": "sha256:99d76c751f471b7977e2b7ef3e387086dd7cec002724f5876a97b23d40a74480"
 },
 "nbformat": 3,
 "nbformat_minor": 0,
 "worksheets": [
  {
   "cells": [
    {
     "cell_type": "markdown",
     "metadata": {},
     "source": [
      "MetaboHunter\n",
      "============\n",
      "\n",
      "Automated identification from NMR spectra via the MetaboHunter web service.  \n",
      "[Dan Tulpan][] <small>MetaboHunter</small>, [Martin A. Fitzpatrick][] <small>Python interface</small>\n",
      "\n",
      "Introduction\n",
      "------------\n",
      "\n",
      "MetaboHunter<sup>[1][],[2][1]</sup> is a web service for automated assignment of 1D raw, bucketed or peak picked NMR spectra. Identification is performed in comparison to two publicly available databases ([HMDB][], [MMCD][]) of NMR standard measurements. This plugin offers an interface to all the options available through the web service on loaded data.\n",
      "\n",
      "Quick start\n",
      "-----------\n",
      "\n",
      "Select source data to import and set the data submission parameters. Submission takes \\~30seconds depending on the size of the dataset for analysis. The resulting labels and annotations are shown in the table, with a spectra view showing mappings overlaid on the spectra. Where entities are known in the internal database these are mapped automatically, otherwise the HMDB label is shown.\n",
      "\n",
      "Notes\n",
      "-----\n",
      "\n",
      "MetaboHunter makes use of 867 HMDB and 448 MMCD NMR spectra. All spectra have been manually curated.\n",
      "\n",
      "References\n",
      "----------\n",
      "\n",
      "1.  Tulpan, D., Leger, S., Belliveau, L., Culf, A., Cuperlovic-Culf, M. (2011). [MetaboHunter: semi-automatic identification of 1H-NMR metabolite spectra in complex mixtures][]. BMC Bioinformatics 2011, 12:400\n",
      "2.  [MetaboHunter web service][]\n",
      "\n",
      "\n",
      "  [Dan Tulpan]: http://nrc-ca.academia.edu/DanTulpan\n",
      "  [Martin A. Fitzpatrick]: http://martinfitzpatrick.name/\n",
      "  [1]: #ref-1\n",
      "  [HMDB]: http://www.hmdb.ca\n",
      "  [MMCD]: http://mmcd.nmrfam.wisc.edu/\n",
      "  [MetaboHunter: semi-automatic identification of 1H-NMR metabolite spectra in complex mixtures]: http://www.biomedcentral.com/1471-2105/12/400\n",
      "  [MetaboHunter web service]: http://www.nrcbioinformatics.ca/metabohunter/"
     ]
    },
    {
     "cell_type": "code",
     "collapsed": false,
     "input": [
      "import pandas as pd\n",
      "import metabohunter as mh"
     ],
     "language": "python",
     "metadata": {},
     "outputs": []
    },
    {
     "cell_type": "code",
     "collapsed": false,
     "input": [
      "# Generate a table of ppms (from index, Scale) and peaks (from mean of data table)\n",
      "if type(input_data.columns) == pd.MultiIndex:\n",
      "    ppms = input_data.columns.labels[ input_data.columns.names.index('Scales') ]\n",
      "else:\n",
      "    ppms = input_data.columns.values\n",
      "    \n",
      "peaks = input_data.mean().values"
     ],
     "language": "python",
     "metadata": {},
     "outputs": [
      {
       "ename": "IndentationError",
       "evalue": "expected an indented block (<ipython-input-1-7d8455f2033f>, line 5)",
       "output_type": "pyerr",
       "traceback": [
        "\u001b[0;36m  File \u001b[0;32m\"<ipython-input-1-7d8455f2033f>\"\u001b[0;36m, line \u001b[0;32m5\u001b[0m\n\u001b[0;31m    peaks = input_data.T.mean().values\u001b[0m\n\u001b[0m        ^\u001b[0m\n\u001b[0;31mIndentationError\u001b[0m\u001b[0;31m:\u001b[0m expected an indented block\n"
       ]
      }
     ],
     "prompt_number": 1
    },
    {
     "cell_type": "code",
     "collapsed": false,
     "input": [
      "hmdbs = mh.request(ppms, peaks)"
     ],
     "language": "python",
     "metadata": {},
     "outputs": []
    },
    {
     "cell_type": "markdown",
     "metadata": {},
     "source": [
      "We've loaded the data now and have all entity info etc. so construct a Pandas dataframe for output."
     ]
    },
    {
     "cell_type": "code",
     "collapsed": false,
     "input": [
      "output_data = input_data\n",
      "\n",
      "# Add to the existing column MultiIndex\n",
      "\n",
      "def tupler(*args):\n",
      "    return tuple(args)\n",
      "\n",
      "if type(input_data.columns) == pd.MultiIndex:\n",
      "    cur_index_vals = output_data.columns.values\n",
      "    cur_index_names = list(output_data.columns.values)\n",
      "    new_index = [tupler(hmdb_id,*cur_index_vals[n]) for n,hmdb_id in enumerate(hmdbs)]\n",
      "else:\n",
      "    new_index = zip(hmdbs,ppms)\n",
      "    cur_index_names = ['Scale']\n",
      "    \n",
      "output_data.columns = pd.MultiIndex.from_tuples( new_index, names=['HMDB'] + cur_index_names )"
     ],
     "language": "python",
     "metadata": {},
     "outputs": []
    },
    {
     "cell_type": "code",
     "collapsed": false,
     "input": [
      "output_data"
     ],
     "language": "python",
     "metadata": {},
     "outputs": []
    },
    {
     "cell_type": "code",
     "collapsed": false,
     "input": [
      "# Generate simple result figure (using pathomx libs)\n",
      "from pathomx.figures import spectra\n",
      "\n",
      "View = spectra(output_data, styles=styles);\n"
     ],
     "language": "python",
     "metadata": {},
     "outputs": []
    }
   ],
   "metadata": {}
  }
 ]
}