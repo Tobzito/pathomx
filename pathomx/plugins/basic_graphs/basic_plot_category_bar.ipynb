{
 "metadata": {
  "name": "",
  "signature": "sha256:1ca87dcb6d5a37919cbe3916baf0498e5411c6aaa7738beed901670de269fc5d"
 },
 "nbformat": 3,
 "nbformat_minor": 0,
 "worksheets": [
  {
   "cells": [
    {
     "cell_type": "markdown",
     "metadata": {},
     "source": [
      "Category Bar plot\n",
      "=================\n",
      "\n",
      "Plot a category bar graph (basic plot function).  \n",
      "[Martin A. Fitzpatrick][]\n",
      "\n",
      "  [Martin A. Fitzpatrick]: http://martinfitzpatrick.name/"
     ]
    },
    {
     "cell_type": "code",
     "collapsed": false,
     "input": [
      "# Generate simple result figure (using pathomx libs)\n",
      "from pathomx.figures import category_bar\n",
      "\n",
      "View = category_bar(input_data, styles=styles);"
     ],
     "language": "python",
     "metadata": {},
     "outputs": []
    }
   ],
   "metadata": {}
  }
 ]
}