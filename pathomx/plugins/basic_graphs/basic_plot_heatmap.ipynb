{
 "metadata": {
  "name": "",
  "signature": "sha256:1ea6b5a593f11e81cc03e880d58e3a6564385af6e32c5e34c430f22fc75db413"
 },
 "nbformat": 3,
 "nbformat_minor": 0,
 "worksheets": [
  {
   "cells": [
    {
     "cell_type": "markdown",
     "metadata": {},
     "source": [
      "Heatmap plot\n",
      "============\n",
      "\n",
      "Plot a heatmap (basic plot function).  \n",
      "[Martin A. Fitzpatrick][]\n",
      "\n",
      "  [Martin A. Fitzpatrick]: http://martinfitzpatrick.name/"
     ]
    },
    {
     "cell_type": "code",
     "collapsed": false,
     "input": [
      "# Generate simple result figure (using pathomx libs)\n",
      "from pathomx.figures import heatmap\n",
      "\n",
      "View = heatmap(input_data, styles=styles);"
     ],
     "language": "python",
     "metadata": {},
     "outputs": []
    }
   ],
   "metadata": {}
  }
 ]
}