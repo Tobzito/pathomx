{
 "metadata": {
  "name": "",
  "signature": "sha256:afe305bd3defadf5e7ff5a79f5127ac5a8d43bb0a12c72f9ae8f3d4416daf0aa"
 },
 "nbformat": 3,
 "nbformat_minor": 0,
 "worksheets": [
  {
   "cells": [
    {
     "cell_type": "markdown",
     "metadata": {},
     "source": [
      "Spectra plot\n",
      "============\n",
      "\n",
      "Plot a spectra (basic plot function).  \n",
      "[Martin A. Fitzpatrick][]\n",
      "\n",
      "  [Martin A. Fitzpatrick]: http://martinfitzpatrick.name/"
     ]
    },
    {
     "cell_type": "code",
     "collapsed": false,
     "input": [
      "# Generate simple result figure (using pathomx libs)\n",
      "from pathomx.figures import spectra\n",
      "\n",
      "View = spectra(output_data, styles=styles);"
     ],
     "language": "python",
     "metadata": {},
     "outputs": []
    }
   ],
   "metadata": {}
  }
 ]
}