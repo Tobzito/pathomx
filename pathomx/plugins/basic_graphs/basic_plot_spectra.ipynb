{
 "metadata": {
  "name": "",
  "signature": "sha256:2e70cd13f247e5a1e1a47edc14fc44547c272b9849c393bc0fd492912f572a04"
 },
 "nbformat": 3,
 "nbformat_minor": 0,
 "worksheets": [
  {
   "cells": [
    {
     "cell_type": "markdown",
     "metadata": {},
     "source": [
      "Spectra plot\n",
      "============\n",
      "\n",
      "Plot a spectra (basic plot function).  \n",
      "[Martin A. Fitzpatrick][]\n",
      "\n",
      "  [Martin A. Fitzpatrick]: http://martinfitzpatrick.name/"
     ]
    },
    {
     "cell_type": "code",
     "collapsed": false,
     "input": [
      "# Generate simple result figure (using pathomx libs)\n",
      "from pathomx.figures import spectra\n",
      "\n",
      "View = spectra(input_data, styles=styles);"
     ],
     "language": "python",
     "metadata": {},
     "outputs": []
    }
   ],
   "metadata": {}
  }
 ]
}