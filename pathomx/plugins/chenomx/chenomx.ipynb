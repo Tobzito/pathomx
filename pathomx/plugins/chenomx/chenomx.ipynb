{
 "metadata": {
  "name": "",
  "signature": "sha256:abb60536787e3e5a55b41f804c33b1f65643a4c44f84e7bd0703588ebd370668"
 },
 "nbformat": 3,
 "nbformat_minor": 0,
 "worksheets": [
  {
   "cells": [
    {
     "cell_type": "markdown",
     "metadata": {},
     "source": [
      "Chenomx\n",
      "=======\n",
      "\n",
      "Import quantified metabolite concentrations exported from Chenomx Profiler analysis software.  \n",
      "[Martin A. Fitzpatrick][]\n",
      "\n",
      "Introduction\n",
      "------------\n",
      "\n",
      "[Chenomx NMR Suite][] is an integrated set of tools for identifying and quantifying metabolites in NMR spectra. By combining sophisticated chemistry with advanced algorithms, Chenomx NMR Suite offers a metabolic profiling platform with unparalleled power and ease-of-use.\n",
      "\n",
      "  [Martin A. Fitzpatrick]: http://martinfitzpatrick.name/\n",
      "  [Chenomx NMR Suite]: http://www.chenomx.com/software/\n"
     ]
    },
    {
     "cell_type": "code",
     "collapsed": false,
     "input": [
      "import pandas as pd\n",
      "import numpy as np\n",
      "\n",
      "import os\n",
      "import csv"
     ],
     "language": "python",
     "metadata": {},
     "outputs": []
    },
    {
     "cell_type": "code",
     "collapsed": false,
     "input": [
      "slabels = []\n",
      "data = []\n",
      "\n",
      "# First read the header and get the labels and entities\n",
      "with open(config['filename'], 'rU') as f:\n",
      "    reader = csv.reader(f, delimiter=',', dialect='excel')\n",
      "\n",
      "    hrow = next(reader)  # Get top row\n",
      "    if hrow[0] != 'Profiled Data Type':  # Is a Chenomx output file; use the other columns to map data scale/etc. once implemented\n",
      "        assert False, 'Not valid input file: Wrong file type.'\n",
      "        \n",
      "    header_rows = {\n",
      "        'pH': 'Labels',\n",
      "        'InChI': 'InChI',\n",
      "        'HMDB Accession Number':'HMDB',\n",
      "        'KEGG Compound ID':'KEGG',\n",
      "        'PubChem Compound':'PUBCHEM',\n",
      "        'ChEBI ID':'CHEBI',\n",
      "                 }\n",
      "\n",
      "    indexes = dict()\n",
      "\n",
      "    found_data = False\n",
      "    for n,row in enumerate(reader):\n",
      "        if row[0] in header_rows.keys():\n",
      "            indexes[header_rows[row[0]]] = row[1:]\n",
      "\n",
      "        elif '.cnx' in row[0]:\n",
      "            found_data = True\n",
      "            break\n",
      "\n",
      "if not found_data:\n",
      "    assert False, 'Not valid input file: No data.'\n",
      "\n",
      "with open(config['filename'], 'rU') as f:\n",
      "            \n",
      "    # n has the row number for start of data\n",
      "    output_data = pd.read_csv(f, skiprows=n+1, index_col=[0])\n",
      "\n",
      "\n",
      "indexl = indexes.keys()\n",
      "indext = []\n",
      "\n",
      "for n, _ in enumerate( indexes[indexl[0]] ):\n",
      "    indext.append( tuple([indexes[l][n] for l in indexl]) )\n",
      "    \n",
      "col_index = pd.MultiIndex.from_tuples( indext, names=indexl )\n",
      "output_data.columns = col_index\n",
      "\n",
      "output_data"
     ],
     "language": "python",
     "metadata": {},
     "outputs": []
    },
    {
     "cell_type": "code",
     "collapsed": false,
     "input": [
      "# Generate simple result figure (using pathomx libs)\n",
      "from pathomx.figures import spectra\n",
      "\n",
      "View = spectra(output_data, styles=styles);"
     ],
     "language": "python",
     "metadata": {},
     "outputs": []
    }
   ],
   "metadata": {}
  }
 ]
}