{
 "metadata": {
  "name": "",
  "signature": "sha256:868d75d2ac20ef429552ded8e52ba2c9ceafc3f978087f9960fa4c43f25d0479"
 },
 "nbformat": 3,
 "nbformat_minor": 0,
 "worksheets": [
  {
   "cells": [
    {
     "cell_type": "markdown",
     "metadata": {},
     "source": [
      "Pathway Mining\n",
      "==============\n",
      "\n",
      "Calculate scores for pathways (or reactions, compartments) using various simple mining algorithms.    \n",
      "[Martin A. Fitzpatrick][]\n",
      "\n",
      "Introduction\n",
      "------------\n",
      "\n",
      "In untargeted metabolic studies it is often useful to determine the key areas of metabolic regulation within a system. Pathomx supports pathway-based mining of experimental data, using a number of different scoring algorithms, which has the added benefit of proving context for the identified change.\n",
      "\n",
      "The scoring algorithm can be altered from the \u2018Settings\u2026\u2019 dialog. Scoring can be based on upregulation, downregulation, overall change and by the number of identified metabolites in the sample. Adjusting scores relative to the number of metabolites in a pathway removes the bias towards larger pathways (although this is often preferable for interpretation). You can adjust the pruning threshold from the data toolbar.\n",
      "\n",
      "  [Martin A. Fitzpatrick]: http://martinfitzpatrick.name/\n",
      "  [Select source data]: pathomx://@view.id/default_actions/data_source/add"
     ]
    },
    {
     "cell_type": "code",
     "collapsed": false,
     "input": [
      "from pathminer import mining\n",
      "import pandas as pd\n",
      "import numpy as np\n",
      "\n",
      "from biocyc import biocyc"
     ],
     "language": "python",
     "metadata": {},
     "outputs": []
    },
    {
     "cell_type": "code",
     "collapsed": false,
     "input": [
      "biocyc.set_organism('HUMAN')\n",
      "#\u00a0Flatten input data to single row\n",
      "\n",
      "data = []\n",
      "for input_data in input_1, input_2, input_3, input_4:\n",
      "    if input_data is not None:\n",
      "        datam = input_data.mean()\n",
      "        # We need BioCyc identifiers\n",
      "        if 'BioCyc' in input_data.columns.names:\n",
      "            entities = [k[input_data.columns.names.index('BioCyc')] for k in input_1.columns.values]\n",
      "            # Map to BioCyc\n",
      "            biocyc_entities = []\n",
      "            for e in entities:\n",
      "                if type(e) is not str or e == '':\n",
      "                    continue # Nan, None, etc.\n",
      "                try:\n",
      "                    be = biocyc.get(e)                    \n",
      "                except:\n",
      "                    biocyc_entities.append(None)\n",
      "                else:\n",
      "                    biocyc_entities.append(be)\n",
      "            \n",
      "            datas = [(e,s) for e,s in zip(biocyc_entities, datam.values)]\n",
      "            data.extend(datas)"
     ],
     "language": "python",
     "metadata": {},
     "outputs": []
    },
    {
     "cell_type": "code",
     "collapsed": false,
     "input": [
      "results = mining(data, no_of_results=config['/Data/MiningDepth'], \n",
      "                       algorithm=config['/Data/MiningType'], \n",
      "                       relative=config['/Data/MiningRelative'], \n",
      "                       shared=config['/Data/MiningShared'], \n",
      "                )\n",
      "\n",
      "# Results in format [(pathway, score)] rebuild a new DataFrame of the data\n",
      "results"
     ],
     "language": "python",
     "metadata": {},
     "outputs": []
    },
    {
     "cell_type": "code",
     "collapsed": false,
     "input": [
      "pathways, data = zip(*results)\n",
      "\n",
      "output_data = pd.DataFrame( np.array(data) ).T\n",
      "output_data.columns = pd.MultiIndex.from_tuples( [(p.id,) for p in pathways], names=['BioCyc'] )\n",
      "output_data"
     ],
     "language": "python",
     "metadata": {},
     "outputs": []
    }
   ],
   "metadata": {}
  }
 ]
}