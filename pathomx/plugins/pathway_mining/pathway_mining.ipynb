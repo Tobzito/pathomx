{
 "metadata": {
  "name": "",
  "signature": "sha256:a59015d5bf8a2ca4da08fb201ab7a84460aac540bd6d0b95f20f5a16afebc948"
 },
 "nbformat": 3,
 "nbformat_minor": 0,
 "worksheets": [
  {
   "cells": [
    {
     "cell_type": "markdown",
     "metadata": {},
     "source": [
      "Pathway Mining\n",
      "==============\n",
      "\n",
      "Calculate scores for pathways (or reactions, compartments) using various simple mining algorithms.    \n",
      "[Martin A. Fitzpatrick][]\n",
      "\n",
      "Introduction\n",
      "------------\n",
      "\n",
      "In untargeted metabolic studies it is often useful to determine the key areas of metabolic regulation within a system. Pathomx supports pathway-based mining of experimental data, using a number of different scoring algorithms, which has the added benefit of proving context for the identified change.\n",
      "\n",
      "The scoring algorithm can be altered from the \u2018Settings\u2026\u2019 dialog. Scoring can be based on upregulation, downregulation, overall change and by the number of identified metabolites in the sample. Adjusting scores relative to the number of metabolites in a pathway removes the bias towards larger pathways (although this is often preferable for interpretation). You can adjust the pruning threshold from the data toolbar.\n",
      "\n",
      "  [Martin A. Fitzpatrick]: http://martinfitzpatrick.name/\n",
      "  [Select source data]: pathomx://@view.id/default_actions/data_source/add"
     ]
    },
    {
     "cell_type": "code",
     "collapsed": false,
     "input": [
      "from pathminer import mining\n",
      "import pandas as pd\n",
      "import numpy as np\n",
      "\n",
      "from biocyc import biocyc"
     ],
     "language": "python",
     "metadata": {},
     "outputs": []
    },
    {
     "cell_type": "code",
     "collapsed": false,
     "input": [
      "biocyc.set_organism('HUMAN')\n",
      "#\u00a0Flatten input data to single row\n",
      "\n",
      "data = []\n",
      "for input_data in input_1, input_2, input_3, input_4:\n",
      "    if input_data is not None:\n",
      "        datam = input_data.mean()\n",
      "        # We need BioCyc identifiers\n",
      "        if 'BioCyc' in input_data.columns.names:\n",
      "            if type(input_data.columns) == pd.MultiIndex:\n",
      "                entities = [k[input_data.columns.names.index('BioCyc')] for k in input_1.columns.values]\n",
      "            else:\n",
      "                entities = input_data.columns.values\n",
      "            # Map to BioCyc if not already\n",
      "            biocyc_entities = []\n",
      "            for e in entities:\n",
      "                if hasattr(e, 'id'):\n",
      "                    biocyc_entities.append(e)\n",
      "                elif type(e) is str:\n",
      "                    try:\n",
      "                        biocyc_entities[n] = biocyc.get(o)\n",
      "                    except:\n",
      "                        biocyc_entities[n] = None   \n",
      "                else:\n",
      "                    biocyc_entities.append(None)\n",
      "            \n",
      "            datas = [(e,s) for e,s in zip(biocyc_entities, datam.values) if e is not None]\n",
      "            data.extend(datas)"
     ],
     "language": "python",
     "metadata": {},
     "outputs": []
    },
    {
     "cell_type": "code",
     "collapsed": false,
     "input": [
      "print \"%d entities with data\" % len(data)"
     ],
     "language": "python",
     "metadata": {},
     "outputs": []
    },
    {
     "cell_type": "code",
     "collapsed": false,
     "input": [
      "results = mining(data, target=config['/Data/MiningTarget'], \n",
      "                       include=config['include_pathways'],\n",
      "                       exclude=config['exclude_pathways'],\n",
      "                       no_of_results=config['/Data/MiningDepth'], \n",
      "                       algorithm=config['/Data/MiningType'], \n",
      "                       relative=config['/Data/MiningRelative'], \n",
      "                       shared=config['/Data/MiningShared'], \n",
      "                )\n",
      "\n",
      "# Results in format [(pathway, score)] rebuild a new DataFrame of the data\n",
      "results"
     ],
     "language": "python",
     "metadata": {},
     "outputs": []
    },
    {
     "cell_type": "code",
     "collapsed": false,
     "input": [
      "pathways, data = zip(*results)\n",
      "\n",
      "output_data = pd.DataFrame( np.array(data) ).T\n",
      "output_data.columns = pd.Index([p for p in pathways], name='BioCyc')\n",
      "output_data"
     ],
     "language": "python",
     "metadata": {},
     "outputs": []
    }
   ],
   "metadata": {}
  }
 ]
}