{
 "metadata": {
  "name": "",
  "signature": "sha256:eb1a3022e37abdee1f675a40d6a4f7a8503d5523beee5dad80059ace6e6881ea"
 },
 "nbformat": 3,
 "nbformat_minor": 0,
 "worksheets": [
  {
   "cells": [
    {
     "cell_type": "markdown",
     "metadata": {},
     "source": [
      "Reclassify\n",
      "==========\n",
      "\n",
      "Reclassify samples using regexp matching on labels or classes.    \n",
      "[Martin A. Fitzpatrick][]\n",
      "\n",
      "\n",
      "  [Martin A. Fitzpatrick]: http://martinfitzpatrick.name/\n"
     ]
    },
    {
     "cell_type": "code",
     "collapsed": false,
     "input": [
      "import pandas as pd\n",
      "import re\n",
      "from collections import OrderedDict"
     ],
     "language": "python",
     "metadata": {},
     "outputs": []
    },
    {
     "cell_type": "code",
     "collapsed": false,
     "input": [
      "classes = [i[ input_data.index.names.index('Class') ] for i in input_data.index.values ]\n",
      "samples = [i[ input_data.index.names.index('Sample') ] for i in input_data.index.values ]\n",
      "\n",
      "for search, replace, match in config.get('filters'):\n",
      "    classes_f = []\n",
      "\n",
      "    if match == 'Class' or match == 'None':\n",
      "        \n",
      "        for c in classes:\n",
      "            print search, c\n",
      "            match = re.search(search, c)\n",
      "            if match:\n",
      "                classes_f.append(replace)\n",
      "            else:\n",
      "                classes_f.append(c)\n",
      "\n",
      "    elif match == 'Sample':\n",
      "        for n, s in enumerate(samples):\n",
      "            match = re.search(search, str(s) )\n",
      "            if match:\n",
      "                classes_f.append(replace)\n",
      "            else:\n",
      "                classes_f.append(classes[n])\n",
      "\n",
      "    classes = classes_f "
     ],
     "language": "python",
     "metadata": {},
     "outputs": []
    },
    {
     "cell_type": "code",
     "collapsed": false,
     "input": [
      "# Now have classes in a list; rebuild the MultiIndex using this replacement\n",
      "\n",
      "output_data = input_data\n",
      "\n",
      "indexes = OrderedDict()\n",
      "for n, idx in enumerate(input_data.index.names):\n",
      "    indexes[idx] = input_data.index.levels[n]\n",
      "\n",
      "indexes['Class'] = classes\n",
      "\n",
      "# Build some tuples\n",
      "new_index_tuples = zip(*indexes.values())\n",
      "output_data.index = pd.MultiIndex.from_tuples( new_index_tuples, names=indexes.keys() )"
     ],
     "language": "python",
     "metadata": {},
     "outputs": []
    },
    {
     "cell_type": "code",
     "collapsed": false,
     "input": [
      "output_data"
     ],
     "language": "python",
     "metadata": {},
     "outputs": []
    },
    {
     "cell_type": "code",
     "collapsed": false,
     "input": [
      "# Generate simple result figure (using pathomx libs)\n",
      "from pathomx.figures import spectra\n",
      "\n",
      "View = spectra(output_data, styles=styles);"
     ],
     "language": "python",
     "metadata": {},
     "outputs": []
    }
   ],
   "metadata": {}
  }
 ]
}