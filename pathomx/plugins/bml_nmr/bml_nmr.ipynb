{
 "metadata": {
  "name": "",
  "signature": "sha256:0e2bca12a558b01590c7b28cc7aca497d702998f451518289641725bcbc9d6b2"
 },
 "nbformat": 3,
 "nbformat_minor": 0,
 "worksheets": [
  {
   "cells": [
    {
     "cell_type": "markdown",
     "metadata": {},
     "source": [
      "BML-NMR Quantified/Identified Data Import\n",
      "=========================================\n",
      "\n",
      "Import data from the BML-NMR 2D JRES NMR identification platform. [Martin A. Fitzpatrick][]\n",
      "\n",
      "Introduction\n",
      "------------\n",
      "\n",
      "The Birmingham Metabolite Library is a collection of 3328 experimental 1D and 2D J-resolved NMR spectra of 208 metabolite standards. Established by [University of Birmingham][] researchers and funded by the [BBSRC][]\n",
      "\n",
      "The BML contains raw data (FIDs), 1D and 2D spectra, and quantified peak lists, alongside metadata compliant with the Metabolomics Standards Initiative endorsed reporting requirements<sup>[1][]</sup>. All data in the library is made freely available to the scientific community. However, it requests that use of the library is acknowledged by reference to: [C. Ludwig, J.M. Easton, A. Lodi, S. Tiziani, S. Manzoor, A.D. Southam, J.J. Byrne, L.M. Bishop, S. He, T.N. Arvanitis, U.L. G\u00fcnther, and M.R. Viant. Birmingham Metabolite Library: A publicly accessible database of 1-D <sup>1</sup>H and 2-D <sup>1</sup>H J-resolved NMR spectra of authentic metabolite standards (BML-NMR). *Metabolomics* 8(1), 8-18 (2012).][]\n",
      "\n",
      "The library also forms the core of a data mining algorithm for the automated identification and quantification of metabolites in 2D J-resolved datasets available for registered users of the site\n",
      "\n",
      "Quick start\n",
      "-----------\n",
      "\n",
      "J-resolved NMR spectra should be submitted to the BML-NMR for identification as described [here][]. Once the identification job has completed the resulting dataset can be downloaded from the site as a .zip file. To import the data into Pathomx simply load this zip file directly through this plugin. Metabolite names and quantities will be shown on the Table view.\n",
      "\n",
      "References\n",
      "----------\n",
      "\n",
      "1.  D.V. Rubtsov, H. Jenkins, C. Ludwig, J. Easton, M.R. Viant, U.L. G\u00fcnther, J.L. Griffin, and N. Hardy. [Proposed reporting requirements for the description of NMR-based metabolomics experiments][]. *Metabolomics* 3(3), 223-229 (2007).</a>\n",
      "\n",
      "\n",
      "  [Martin A. Fitzpatrick]: http://martinfitzpatrick.name/\n",
      "  [University of Birmingham]: http://www.birmingham.ac.uk\n",
      "  [BBSRC]: http://www.bbsrc.ac.uk/\n",
      "  [1]: #ref-1\n",
      "  [C. Ludwig, J.M. Easton, A. Lodi, S. Tiziani, S. Manzoor, A.D. Southam, J.J. Byrne, L.M. Bishop, S. He, T.N. Arvanitis, U.L. G\u00fcnther, and M.R. Viant. Birmingham Metabolite Library: A publicly accessible database of 1-D <sup>1</sup>H and 2-D <sup>1</sup>H J-resolved NMR spectra of authentic metabolite standards (BML-NMR). *Metabolomics* 8(1), 8-18 (2012).]: http://dx.doi.org/10.1007/s11306-011-0347-7\n",
      "  [here]: http://www.bml-nmr.org/NMRDB.jsf\n",
      "  [Proposed reporting requirements for the description of NMR-based metabolomics experiments]: http://www.springerlink.com/content/l774n76k4m86kj25/"
     ]
    },
    {
     "cell_type": "code",
     "collapsed": false,
     "input": [
      "import pandas as pd\n",
      "import numpy as np\n",
      "\n",
      "import tempfile\n",
      "import zipfile\n",
      "import os\n",
      "import csv\n",
      "\n",
      "#\u00a0Unzip into temporary folder\n",
      "folder = tempfile.mkdtemp()  # os.path.join( QDir.tempPath(),\n",
      "zf = zipfile.ZipFile(config['filename'])\n",
      "zf.extractall(folder)\n",
      "f = os.listdir(folder)\n",
      "bml_job = f[0]\n",
      "\n",
      "fns = [\n",
      "    ('samples_vs_concs_matrix.txt', 'raw'),\n",
      "    ('samples_vs_concs_matrix_tsanorm.txt', 'tsa'),\n",
      "    ('samples_vs_concs_matrix_pqnnorm.txt', 'pqn'),\n",
      "]\n",
      "\n",
      "# We have the data folder; import each of the complete datasets in turn\n",
      "# non, PQN, TSA and label appropriately\n",
      "datasets = {}"
     ],
     "language": "python",
     "metadata": {},
     "outputs": []
    },
    {
     "cell_type": "code",
     "collapsed": false,
     "input": [
      "for fn, target in fns:\n",
      "    # Load the data file\n",
      "    data_path = os.path.join(folder, bml_job, 'overall_result_outputs', fn)\n",
      "\n",
      "    with open(data_path, 'rb') as f:\n",
      "        # Find initial line\n",
      "        cr = csv.reader(f, delimiter='\\t')\n",
      "        for row in cr:\n",
      "            if len(row)>0 and row[0] == 'metabolite':\n",
      "                sample_nos = row[1:-2]\n",
      "                break\n",
      "        else:\n",
      "            continue #\u00a0Escape to next file\n",
      "        \n",
      "        # Pass the open f to read_csv to get the rest\n",
      "        # I hate MATLAB string\n",
      "        dataset = pd.read_csv(f, header=None, index_col=[0], sep=r'\\x00*\\t+', dtype=np.float64)\n",
      "            \n",
      "        # Bottom two columns are the metabolite id info, chop off\n",
      "        dataset = dataset.T\n",
      "        dataset = dataset[:-2]\n",
      "        \n",
      "        # We've only got sample items, need to add a class column\n",
      "        sample_nos = [f.replace('(expno_','').strip(')') for f in sample_nos]\n",
      "        dataset.index = pd.MultiIndex.from_tuples(zip(sample_nos,['']*len(sample_nos)), names=['Sample','Class'])\n",
      "        \n",
      "        vars()[target] = dataset\n",
      "        del dataset"
     ],
     "language": "python",
     "metadata": {},
     "outputs": []
    },
    {
     "cell_type": "code",
     "collapsed": false,
     "input": [
      "raw"
     ],
     "language": "python",
     "metadata": {},
     "outputs": []
    },
    {
     "cell_type": "code",
     "collapsed": false,
     "input": [
      "pqn"
     ],
     "language": "python",
     "metadata": {},
     "outputs": []
    },
    {
     "cell_type": "code",
     "collapsed": false,
     "input": [
      "tsa"
     ],
     "language": "python",
     "metadata": {},
     "outputs": []
    },
    {
     "cell_type": "code",
     "collapsed": false,
     "input": [
      "# Generate simple result figure (using pathomx libs)\n",
      "from pathomx.figures import spectra\n",
      "\n",
      "Raw = spectra(raw, styles=styles);\n",
      "PQN = spectra(pqn, styles=styles);\n",
      "TSA = spectra(tsa, styles=styles);"
     ],
     "language": "python",
     "metadata": {},
     "outputs": []
    }
   ],
   "metadata": {}
  }
 ]
}