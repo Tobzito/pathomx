{
 "metadata": {
  "name": "",
  "signature": "sha256:70f0ef7270d397de09d7309082a2af90e3230dc72b095d3df7ac86ceab48b4bb"
 },
 "nbformat": 3,
 "nbformat_minor": 0,
 "worksheets": [
  {
   "cells": [
    {
     "cell_type": "markdown",
     "metadata": {},
     "source": [
      "Export to clipboard\n",
      "===================\n",
      "\n",
      "Paste data to system clipboard\n",
      "[Martin A. Fitzpatrick][]\n",
      "\n",
      "\n",
      "  [Martin A. Fitzpatrick]: http://martinfitzpatrick.name/"
     ]
    },
    {
     "cell_type": "code",
     "collapsed": false,
     "input": [
      "input_data.to_clipboard()"
     ],
     "language": "python",
     "metadata": {},
     "outputs": []
    }
   ],
   "metadata": {}
  }
 ]
}