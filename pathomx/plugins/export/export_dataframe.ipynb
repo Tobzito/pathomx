{
 "metadata": {
  "name": "",
  "signature": "sha256:8b836e4a3fd55b6d0440b268f101bea034397a8dffad8645fbe1db9ffaabfc4b"
 },
 "nbformat": 3,
 "nbformat_minor": 0,
 "worksheets": [
  {
   "cells": [
    {
     "cell_type": "markdown",
     "metadata": {},
     "source": [
      "Export dataframe\n",
      "================\n",
      "\n",
      "Export data to CSV, HDF or pickle formats.  \n",
      "[Martin A. Fitzpatrick][]\n",
      "\n",
      "\n",
      "  [Martin A. Fitzpatrick]: http://martinfitzpatrick.name/"
     ]
    },
    {
     "cell_type": "code",
     "collapsed": false,
     "input": [
      "import os\n",
      "if config['filename'] is not None:\n",
      "    path, ext = os.path.splitext(config['filename'])\n",
      "\n",
      "    if ext in ['txt','csv','tsv']:\n",
      "        input_data.to_csv(config['filename'])\n",
      "        \n",
      "    elif ext in ['hdf', 'h4', 'hdf4', 'he2', 'h5', 'hdf5', 'he5']:\n",
      "        input_data.to_hdf(config['filename'])        \n",
      "\n",
      "    elif ext in ['pickle']:\n",
      "        input_data.to_pickle(config['filename'])        \n",
      "        \n",
      "    elif ext in ['json']:\n",
      "        input_data.to_json(config['filename'])        "
     ],
     "language": "python",
     "metadata": {},
     "outputs": []
    }
   ],
   "metadata": {}
  }
 ]
}