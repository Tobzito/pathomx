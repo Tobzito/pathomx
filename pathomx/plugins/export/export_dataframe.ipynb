{
 "metadata": {
  "name": "",
  "signature": "sha256:061f3d50430fe0a2ad32f0835eebd8b3ea52182bba3832b0ea314be6fe6bcd32"
 },
 "nbformat": 3,
 "nbformat_minor": 0,
 "worksheets": [
  {
   "cells": [
    {
     "cell_type": "markdown",
     "metadata": {},
     "source": [
      "Export dataframe\n",
      "================\n",
      "\n",
      "Export data to CSV, HDF or pickle formats.  \n",
      "[Martin A. Fitzpatrick][]\n",
      "\n",
      "\n",
      "  [Martin A. Fitzpatrick]: http://martinfitzpatrick.name/"
     ]
    },
    {
     "cell_type": "code",
     "collapsed": false,
     "input": [
      "import os\n",
      "if config['filename'] is not None:\n",
      "    path, ext = os.path.splitext(config['filename'])\n",
      "    \n",
      "    if ext in ['.txt','.csv','.tsv']:\n",
      "        input_data.to_csv(config['filename'])\n",
      "        \n",
      "    elif ext in ['.hdf', '.h4', '.hdf4', '.he2', '.h5', '.hdf5', '.he5']:\n",
      "        input_data.to_hdf(config['filename'])        \n",
      "\n",
      "    elif ext in ['.pickle']:\n",
      "        input_data.to_pickle(config['filename'])        \n",
      "        \n",
      "    elif ext in ['.json']:\n",
      "        input_data.to_json(config['filename'])        "
     ],
     "language": "python",
     "metadata": {},
     "outputs": []
    }
   ],
   "metadata": {}
  }
 ]
}