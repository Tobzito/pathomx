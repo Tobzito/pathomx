{
 "metadata": {
  "name": "",
  "signature": "sha256:acbcad058673597a856a05c0c1aa46db3e8ad2927784a98fc1dace42dbf30163"
 },
 "nbformat": 3,
 "nbformat_minor": 0,
 "worksheets": [
  {
   "cells": [
    {
     "cell_type": "markdown",
     "metadata": {},
     "source": [
      "Fold Change\n",
      "===========\n",
      "\n",
      "Fold change calculation between two classes (or wildcard).  \n",
      "[Martin A. Fitzpatrick][]\n",
      "\n",
      "  [Martin A. Fitzpatrick]: http://martinfitzpatrick.name/\n",
      "  "
     ]
    },
    {
     "cell_type": "code",
     "collapsed": false,
     "input": [
      "import pandas as pd\n",
      "import numpy as np\n",
      "\n",
      "_experiment_test = config['experiment_test']\n",
      "_experiment_control = config['experiment_control']\n",
      "\n",
      "# We need classes to do the classification; should check and raise an error\n",
      "class_idx = input_data.index.names.index('Class')\n",
      "classes = [v[class_idx] for v in input_data.index.values]\n",
      "\n",
      "\n",
      "# Replace zero values with minima (if setting)\n",
      "if config['use_baseline_minima']:\n",
      "    # Add option for column or global minima here\n",
      "    data_minima = input_data[input_data>0].min().min() / 2\n",
      "    input_data[input_data<=0] = data_minima\n"
     ],
     "language": "python",
     "metadata": {},
     "outputs": []
    },
    {
     "cell_type": "code",
     "collapsed": false,
     "input": [
      "control_data = input_data.xs(_experiment_control, level=class_idx)\n",
      "\n",
      "# Get the dso filtered by class if we're not doing a global match\n",
      "if _experiment_test != \"*\":\n",
      "    test_data = input_data.xs(_experiment_test, level=class_idx)\n",
      "    test_classes = [_experiment_test]\n",
      "else:\n",
      "    excl = [c for c in classes if c != _experiment_control]\n",
      "    test_data = input_data.loc[(slice(None), excl ), :]\n",
      "    test_classes = [c for c in classes if c != _experiment_control]\n"
     ],
     "language": "python",
     "metadata": {},
     "outputs": []
    },
    {
     "cell_type": "code",
     "collapsed": false,
     "input": [
      "input_data"
     ],
     "language": "python",
     "metadata": {},
     "outputs": []
    },
    {
     "cell_type": "code",
     "collapsed": false,
     "input": [
      "control_data"
     ],
     "language": "python",
     "metadata": {},
     "outputs": []
    },
    {
     "cell_type": "code",
     "collapsed": false,
     "input": [
      "test_data"
     ],
     "language": "python",
     "metadata": {},
     "outputs": []
    },
    {
     "cell_type": "code",
     "collapsed": false,
     "input": [
      "dlist = []\n",
      "c = control_data.values\n",
      "t = test_data.values\n",
      "print c.shape, t.shape\n",
      "\n",
      "c = np.mean(c, axis=0)\n",
      "t = np.mean(t, axis=0)\n",
      "print c.shape, t.shape"
     ],
     "language": "python",
     "metadata": {},
     "outputs": []
    },
    {
     "cell_type": "code",
     "collapsed": false,
     "input": [
      "o = t.copy()\n",
      "o[t>c] = np.array(t/c)[t>c]\n",
      "o[t<c] =-np.array(t/c)[t<c]\n",
      "o[t==c] = 0\n",
      "\n",
      "o = np.reshape(o, (-1, t.shape[0]))\n",
      "\n",
      "output_data = pd.DataFrame( o )\n",
      "output_data.columns = input_data.columns"
     ],
     "language": "python",
     "metadata": {},
     "outputs": []
    },
    {
     "cell_type": "code",
     "collapsed": false,
     "input": [
      "output_data"
     ],
     "language": "python",
     "metadata": {},
     "outputs": []
    },
    {
     "cell_type": "code",
     "collapsed": false,
     "input": [
      "test_data = None;\n",
      "control_data = None;"
     ],
     "language": "python",
     "metadata": {},
     "outputs": []
    }
   ],
   "metadata": {}
  }
 ]
}