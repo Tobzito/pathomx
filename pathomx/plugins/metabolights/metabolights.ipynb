{
 "metadata": {
  "name": "",
  "signature": "sha256:b08b4ff6c93b8fbf463da44892d12b8144fc4bc3c82b10809fd95d2367a3893f"
 },
 "nbformat": 3,
 "nbformat_minor": 0,
 "worksheets": [
  {
   "cells": [
    {
     "cell_type": "markdown",
     "metadata": {},
     "source": [
      "MetaboLights Import\n",
      "===================\n",
      "\n",
      "Import data from the MetaboLights database of metabolomics experiments.  \n",
      "[Martin A. Fitzpatrick][]\n",
      "\n",
      "Introduction\n",
      "------------\n",
      "\n",
      "MetaboLights is a cross-species, cross-technique database of metabolomics experiments and derived information. It aims to cover metabolite structures, reference spectra and biological roles, locations and concentrations, together with experimental data from metabolomic experiments. It hosts a number of metabolomic datasets which can be freely downloaded for analysis.\n",
      "\n",
      "Quick start\n",
      "-----------\n",
      "\n",
      "This plugin supports the import of identity-annotated metabolite quantity files only, these are named beginning with \u2018m\\_\u2019. Support for other MetaboLights file types and formats will be implemented in future. To import the data simply load the file. Metabolite name labels and data quantities will be shown on the \u2018Table\u2019 tab, however no automatic mapping to entities is currently supported.\n",
      "\n",
      "References\n",
      "----------\n",
      "\n",
      "1.  Kenneth Haug, Reza M. Salek, Pablo Conesa, Janna Hastings, Paula de Matos, Mark Rijnbeek, Tejasvi Mahendrakar, Mark Williams, Steffen Neumann, Philippe Rocca-Serra, Eamonn Maguire, Alejandra Gonz\u00c3\u00a1lez-Beltr\u00c3\u00a1n, Susanna-Assunta Sansone, Julian L. Griffin and Christoph Steinbeck. [MetaboLights\u2013 an open-access general-purpose repository for metabolomics studies and associated meta-data.][] Nucl. Acids Res. (2013) doi: 10.1093/nar/gks1004\n",
      "\n",
      "\n",
      "  [Martin A. Fitzpatrick]: http://martinfitzpatrick.name/\n",
      "  [MetaboLights\u2013 an open-access general-purpose repository for metabolomics studies and associated meta-data.]: http://nar.oxfordjournals.org/content/41/D1/D781"
     ]
    },
    {
     "cell_type": "code",
     "collapsed": false,
     "input": [
      "import pandas as pd\n",
      "import numpy as np\n",
      "\n",
      "import os\n",
      "import csv\n",
      "from collections import defaultdict"
     ],
     "language": "python",
     "metadata": {},
     "outputs": []
    },
    {
     "cell_type": "code",
     "collapsed": false,
     "input": [
      "id_col=0\n",
      "name_col=4\n",
      "data_col=18\n",
      "\n",
      "#sample\t1\t2\t3\t4\n",
      "#class\tADG10003u_007\tADG10003u_008\tADG10003u_009\tADG10003u_010   ADG19007u_192\n",
      "#2-oxoisovalerate\t0.3841\t0.44603\t0.45971\t0.40812\n",
      "with open(config['filename'], 'rU') as f:\n",
      "    reader = csv.reader( f, delimiter='\\t', dialect='excel')\n",
      "\n",
      "    # Sample identities from top row ( sample labels )\n",
      "    hrow = next(reader)\n",
      "    sample_ids = hrow[1:]    \n",
      "\n",
      "    # Sample classes from second row; crop off after u_\n",
      "    classes = [c for c in hrow if 'u_' in c]\n",
      "\n",
      "    data_starts_at = hrow.index(classes[0])\n",
      "    metabolite_names_at = hrow.index('metabolite_identification')\n",
      "    database_identifiers_at = hrow.index('database_identifier')\n",
      "    # inchi, smiles, etc.\n",
      "    # database_identifier as hmbdNNNN or chebi:NNNN\n",
      "    \n",
      "    classes = [ c.split('u_')[0] for c in classes]\n",
      "\n",
      "\n",
      "    metabolites = []\n",
      "    metabolite_data = []\n",
      "    hmdb_ids = []\n",
      "    chebi_ids = []\n",
      "    \n",
      "    # Read in metabolite data n.b. can have >1 entry / metabolite so need to allow for this\n",
      "    for row in reader:\n",
      "        if row[0] != '': #\u00a0Skip empty rows\n",
      "            metabolites.append( row[metabolite_names_at] )\n",
      "            metabolite_data.append( [float(x) for x in row[data_starts_at:] ] )\n",
      "            dbid = row[database_identifiers_at]\n",
      "            dbid_hmdb, dbid_chebi = None, None\n",
      "\n",
      "            if dbid.startswith('HMDB'):\n",
      "                dbid_hmdb = dbid\n",
      "            elif dbid.startswith('CHEBI:'):\n",
      "                dbid_chebi = dbid.split(':')[1]\n",
      "            \n",
      "            hmdb_ids.append( dbid_hmdb )\n",
      "            chebi_ids.append( dbid_chebi )\n",
      "            "
     ],
     "language": "python",
     "metadata": {},
     "outputs": []
    },
    {
     "cell_type": "markdown",
     "metadata": {},
     "source": [
      "We've loaded the data now and have all entity info etc. so construct a Pandas dataframe for output."
     ]
    },
    {
     "cell_type": "code",
     "collapsed": false,
     "input": [
      "output_data = pd.DataFrame(metabolite_data)\n",
      "output_data = output_data.T\n",
      "output_data.index = pd.MultiIndex.from_tuples( zip( range(len( classes )), classes), names=['Sample','Class'] )\n",
      "output_data.columns = pd.MultiIndex.from_tuples( zip( range(len( metabolites )), metabolites, hmdb_ids, chebi_ids ), names=['Measurement','Label', 'HMDB', 'CHEBI'] )\n",
      "\n",
      "output_data"
     ],
     "language": "python",
     "metadata": {},
     "outputs": []
    },
    {
     "cell_type": "code",
     "collapsed": false,
     "input": [
      "# Generate simple result figure (using pathomx libs)\n",
      "from pathomx.figures import spectra\n",
      "\n",
      "View = spectra(output_data, styles=styles);\n"
     ],
     "language": "python",
     "metadata": {},
     "outputs": []
    }
   ],
   "metadata": {}
  }
 ]
}