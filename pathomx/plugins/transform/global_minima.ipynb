{
 "metadata": {
  "name": "",
  "signature": "sha256:55f3c6c04c7a2938259d54d0a671ade8bc6b3abbb175a54253d7413cd132c913"
 },
 "nbformat": 3,
 "nbformat_minor": 0,
 "worksheets": [
  {
   "cells": [
    {
     "cell_type": "markdown",
     "metadata": {},
     "source": [
      "# Global minima\n",
      "\n",
      "Apply global data transformation.  \n",
      "[Martin A. Fitzpatrick](http://martinfitzpatrick.name/)\n",
      "\n",
      "## Introduction\n",
      "\n",
      "This notebook applies a global minima transformation. Any values under 0 are set to half the smallest global value from the dataframe."
     ]
    },
    {
     "cell_type": "code",
     "collapsed": false,
     "input": [
      "import numpy as np\n",
      "\n",
      "minima = input_data[input_data>0].min().min() / 2 #\n",
      "# Get the dso filtered by class\n",
      "input_data[input_data <= 0] = minima\n",
      "\n",
      "output_data = input_data"
     ],
     "language": "python",
     "metadata": {},
     "outputs": []
    },
    {
     "cell_type": "code",
     "collapsed": false,
     "input": [
      "# Generate simple result figure (using pathomx libs)\n",
      "from pathomx.figures import spectra\n",
      "\n",
      "View = spectra(output_data);"
     ],
     "language": "python",
     "metadata": {},
     "outputs": []
    }
   ],
   "metadata": {}
  }
 ]
}