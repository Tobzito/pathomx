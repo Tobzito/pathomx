{
 "metadata": {
  "name": "",
  "signature": "sha256:8ab6ac308c69f69d812d2e1a6885000a7d72ce9f26376efa5721d807b9b4743a"
 },
 "nbformat": 3,
 "nbformat_minor": 0,
 "worksheets": [
  {
   "cells": [
    {
     "cell_type": "markdown",
     "metadata": {},
     "source": [
      "# Mean Center\n",
      "\n",
      "Apply simple mean center data transformation.  \n",
      "[Martin A. Fitzpatrick](http://martinfitzpatrick.name/)\n",
      "\n",
      "## Introduction\n",
      "\n",
      "This notebook applies a mean center transformation by first calculating the mean value (axis 0) and then subtracting this from the entire dataframe. The resulting frame is centered around this centre point."
     ]
    },
    {
     "cell_type": "code",
     "collapsed": false,
     "input": [
      "import numpy as np\n",
      "\n",
      "center = np.mean(input_data, axis=0)\n",
      "output_data = input_data - center"
     ],
     "language": "python",
     "metadata": {},
     "outputs": []
    },
    {
     "cell_type": "code",
     "collapsed": false,
     "input": [
      "# Generate simple result figure (using pathomx libs)\n",
      "from pathomx.figures import spectra\n",
      "\n",
      "View = spectra(output_data, styles=styles)"
     ],
     "language": "python",
     "metadata": {},
     "outputs": []
    }
   ],
   "metadata": {}
  }
 ]
}