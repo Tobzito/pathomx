{
 "metadata": {
  "name": "",
  "signature": "sha256:5e6c3aeff73e261f1863478c6063ca21230f0e603c5299beed85af1f169843f8"
 },
 "nbformat": 3,
 "nbformat_minor": 0,
 "worksheets": [
  {
   "cells": [
    {
     "cell_type": "markdown",
     "metadata": {},
     "source": [
      "# Local minima\n",
      "\n",
      "Apply local minima data transformation.  \n",
      "[Martin A. Fitzpatrick](http://martinfitzpatrick.name/)\n",
      "\n",
      "## Introduction\n",
      "\n",
      "This notebook applies a local minima data transform, setting zero values on a column by column basis to half the smallest value."
     ]
    },
    {
     "cell_type": "code",
     "collapsed": false,
     "input": [
      "import numpy as np\n",
      "\n",
      "data = input_data.values\n",
      "\n",
      "dmin = np.ma.masked_less_equal(data, 0).min(0) / 2\n",
      "inds = np.where(np.logical_and(data == 0, np.logical_not(np.ma.getmask(dmin))))\n",
      "data[inds] = np.take(dmin, inds[1])\n",
      "\n",
      "output_data = input_data\n",
      "output_data[:] = data\n",
      "\n",
      "data = None;"
     ],
     "language": "python",
     "metadata": {},
     "outputs": []
    },
    {
     "cell_type": "code",
     "collapsed": false,
     "input": [
      "# Generate simple result figure (using pathomx libs)\n",
      "from pathomx.figures import spectra\n",
      "\n",
      "View = spectra(output_data);"
     ],
     "language": "python",
     "metadata": {},
     "outputs": []
    },
    {
     "cell_type": "code",
     "collapsed": false,
     "input": [
      "output_data"
     ],
     "language": "python",
     "metadata": {},
     "outputs": []
    }
   ],
   "metadata": {}
  }
 ]
}