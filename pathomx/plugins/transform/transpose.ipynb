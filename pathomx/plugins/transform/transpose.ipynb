{
 "metadata": {
  "name": "",
  "signature": "sha256:0f2d8b8f3ea2920e59bd71b495ce1f3b5430c3d1298edd5635c5a0bb9325a750"
 },
 "nbformat": 3,
 "nbformat_minor": 0,
 "worksheets": [
  {
   "cells": [
    {
     "cell_type": "markdown",
     "metadata": {},
     "source": [
      "# Transpose\n",
      "\n",
      "Transpose dataframe (rows become columns, and vice versa).  \n",
      "[Martin A. F itzpatrick](http://martinfitzpatrick.name/)"
     ]
    },
    {
     "cell_type": "code",
     "collapsed": false,
     "input": [
      "output_data = input_data.T"
     ],
     "language": "python",
     "metadata": {},
     "outputs": []
    },
    {
     "cell_type": "code",
     "collapsed": false,
     "input": [
      "# Generate simple result figure (using pathomx libs)\n",
      "from pathomx.figures import spectra\n",
      "\n",
      "View = spectra(output_data);"
     ],
     "language": "python",
     "metadata": {},
     "outputs": []
    }
   ],
   "metadata": {}
  }
 ]
}