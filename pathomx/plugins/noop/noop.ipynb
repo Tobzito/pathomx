{
 "metadata": {
  "name": "",
  "signature": "sha256:d02183f1dc76fd99ea1ac25ad44e234d163afe3345dedf5ac7eb19ec46504f19"
 },
 "nbformat": 3,
 "nbformat_minor": 0,
 "worksheets": [
  {
   "cells": [
    {
     "cell_type": "markdown",
     "metadata": {},
     "source": [
      "NOOP\n",
      "====\n",
      "\n",
      "Do nothing. Passes data through unchanged, use to bunch links to downstream notebooks.\n",
      "[Martin A. Fitzpatrick][]\n",
      "\n",
      "Currently this only forwards input_data to output_data. Future should search for inputs and create matching outputs automatically.\n",
      "\n",
      "  [Martin A. Fitzpatrick]: http://martinfitzpatrick.name/"
     ]
    },
    {
     "cell_type": "code",
     "collapsed": false,
     "input": [
      "output_data = input_data;"
     ],
     "language": "python",
     "metadata": {},
     "outputs": []
    }
   ],
   "metadata": {}
  }
 ]
}