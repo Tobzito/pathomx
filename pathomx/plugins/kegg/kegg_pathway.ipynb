{
 "metadata": {
  "name": "",
  "signature": "sha256:0fd08976fe7b9217b92378aaa332ad7ac06b5f621550d0a1d08b09c803cbdcd2"
 },
 "nbformat": 3,
 "nbformat_minor": 0,
 "worksheets": [
  {
   "cells": [
    {
     "cell_type": "markdown",
     "metadata": {},
     "source": [
      "Kyoto Encyclopedia of Genes and Genomes (KEGG) Pathway Viewer\n",
      "=============================================================\n",
      "\n",
      "Visualise data on KEGG metabolic pathways. [Martin A. Fitzpatrick][]\n",
      "\n",
      "Introduction\n",
      "------------\n",
      "\n",
      "Kyoto Encyclopedia of Genes and Genomes (KEGG)<sup>[1][]</sup> is a collection of gene, protein, enzyme, compound and pathway databases. The pathway database includes networks of molecular interactions in cells specific to particular organisms.\n",
      "\n",
      "This plugin allows visualisation of experimental data on any KEGG pathway available via the KEGG API.</sup>\n",
      "\n",
      "Quick start\n",
      "-----------\n",
      "\n",
      "[Select source data][] and then enter a KEGG pathway ID. Experimental data entities are mapped automatically to KEGG identities and submitted for visualisation where they exist in the current database using the selected color scale. Scaling and colour schemes can be altered using the scaling toolbar.\n",
      "\n",
      "References\n",
      "----------\n",
      "\n",
      "1.  Minoru K, Susumu G, Masahiro H, Kiyoko F. A-K, Masumi I, Shuichi K, Toshiaki K, Michihiro A, Mika H (2005) [From genomics to chemical genomics: new developments in KEGG][]. NAR [doi:10.1093/nar/gkj102][]\n",
      "\n",
      "\n",
      "  [Martin A. Fitzpatrick]: http://martinfitzpatrick.name/\n",
      "  [1]: #ref-1\n",
      "  [Select source data]: pathomx://@view.id/default_actions/data_source/add\n",
      "  [From genomics to chemical genomics: new developments in KEGG]: http://nar.oxfordjournals.org/content/34/suppl_1/D354.short\n",
      "  [doi:10.1093/nar/gkj102]: http://dx.doi.org/10.1093/nar/gkj102"
     ]
    },
    {
     "cell_type": "code",
     "collapsed": false,
     "input": [
      "from matplotlib import cm\n",
      "import numpy\n",
      "import re\n",
      "import os\n",
      "\n",
      "from requests_toolbelt import MultipartEncoder\n",
      "import requests\n",
      "\n",
      "url = 'http://www.kegg.jp/kegg-bin/mcolor_pathway'"
     ],
     "language": "python",
     "metadata": {},
     "outputs": []
    },
    {
     "cell_type": "code",
     "collapsed": false,
     "input": [
      "node_colors = {}\n",
      "\n",
      "if input_data is not None:\n",
      "\n",
      "    mini, maxi = input_data.max().max(), input_data.min().min()\n",
      "    mapi = np.linspace(mini, maxi, 255)\n",
      "    color = lambda x: mapi[np.abs(mapi-x).argmin()]\n",
      "\n",
      "    if mini<0:\n",
      "        # We're using a linear zero-centered map\n",
      "        cmap=cm.RdBu(x)\n",
      "\n",
      "    else:\n",
      "        #\u00a0We're using a linear zero-based map\n",
      "        cmap=cm.PuOr(x)\n",
      "\n",
      "\n",
      "    scale = utils.calculate_scale([mini, 0, maxi], [9, 1], out=np.around)  # rdbu9 scale\n",
      "\n",
      "    #for n, m in enumerate(dsi.entities[1]):\n",
      "    #    xref = self.get_xref( m )\n",
      "\n",
      "    for n, m in enumerate(dsi.entities[1]):\n",
      "        if m:\n",
      "\n",
      "            if 'LIGAND-CPD' in m.databases:\n",
      "                kegg_id = m.databases['LIGAND-CPD']\n",
      "                if kegg_id is not None:\n",
      "                    node_colors[kegg_id] = cmap( color(dsi.data[0, n]) )\n",
      "\n",
      "            elif 'NCBI-GENE' in m.databases:\n",
      "                kegg_id = m.databases['NCBI-GENE']\n",
      "                if kegg_id is not None:\n",
      "                    node_colors[kegg_id] = cmap( color(dsi.data[0, n]) )\n",
      "\n",
      "with open(os.path.join(_pathomx_tempdir, 'kegg-pathway-data.txt'), 'w') as tmp:\n",
      "    tmp.write('#hsa\\tData\\n')\n",
      "    for k, c in list(node_colors.items()):\n",
      "        tmp.write('%s\\t%s\\n' % (k, c[0]))\n",
      "\n",
      "    tmp.write('gly\\t#ff0000\\n')\n",
      "    \n",
      "m = MultipartEncoder(\n",
      "        fields = {\n",
      "          'map': config['kegg_pathway_id'],\n",
      "          'mapping_list': ('filename', open(os.path.join(_pathomx_tempdir, 'kegg-pathway-data.txt'), 'r') ),\n",
      "          'mode': 'color',\n",
      "          'submit': 'Exec',\n",
      "         }\n",
      ")\n",
      "\n",
      "r = requests.post(url, data=m, headers={'Content-Type': m.content_type})\n",
      "html = r.text\n"
     ],
     "language": "python",
     "metadata": {},
     "outputs": [
      {
       "ename": "NameError",
       "evalue": "name 'os' is not defined",
       "output_type": "pyerr",
       "traceback": [
        "\u001b[0;31m---------------------------------------------------------------------------\u001b[0m\n\u001b[0;31mNameError\u001b[0m                                 Traceback (most recent call last)",
        "\u001b[0;32m<ipython-input-1-e0e2ce607e5b>\u001b[0m in \u001b[0;36m<module>\u001b[0;34m()\u001b[0m\n\u001b[1;32m     34\u001b[0m                     \u001b[0mnode_colors\u001b[0m\u001b[0;34m[\u001b[0m\u001b[0mkegg_id\u001b[0m\u001b[0;34m]\u001b[0m \u001b[0;34m=\u001b[0m \u001b[0mcmap\u001b[0m\u001b[0;34m(\u001b[0m \u001b[0mcolor\u001b[0m\u001b[0;34m(\u001b[0m\u001b[0mdsi\u001b[0m\u001b[0;34m.\u001b[0m\u001b[0mdata\u001b[0m\u001b[0;34m[\u001b[0m\u001b[0;36m0\u001b[0m\u001b[0;34m,\u001b[0m \u001b[0mn\u001b[0m\u001b[0;34m]\u001b[0m\u001b[0;34m)\u001b[0m \u001b[0;34m)\u001b[0m\u001b[0;34m\u001b[0m\u001b[0m\n\u001b[1;32m     35\u001b[0m \u001b[0;34m\u001b[0m\u001b[0m\n\u001b[0;32m---> 36\u001b[0;31m \u001b[0mtmp\u001b[0m \u001b[0;34m=\u001b[0m \u001b[0mopen\u001b[0m\u001b[0;34m(\u001b[0m\u001b[0mos\u001b[0m\u001b[0;34m.\u001b[0m\u001b[0mpath\u001b[0m\u001b[0;34m.\u001b[0m\u001b[0mjoin\u001b[0m\u001b[0;34m(\u001b[0m\u001b[0m_pathomx_tempdir\u001b[0m\u001b[0;34m,\u001b[0m \u001b[0;34m'kegg-pathway-data.txt'\u001b[0m\u001b[0;34m)\u001b[0m\u001b[0;34m,\u001b[0m \u001b[0;34m'w'\u001b[0m\u001b[0;34m)\u001b[0m\u001b[0;34m\u001b[0m\u001b[0m\n\u001b[0m\u001b[1;32m     37\u001b[0m \u001b[0mtmp\u001b[0m\u001b[0;34m.\u001b[0m\u001b[0mwrite\u001b[0m\u001b[0;34m(\u001b[0m\u001b[0;34m'#hsa\\tData\\n'\u001b[0m\u001b[0;34m)\u001b[0m\u001b[0;34m\u001b[0m\u001b[0m\n\u001b[1;32m     38\u001b[0m \u001b[0;32mfor\u001b[0m \u001b[0mk\u001b[0m\u001b[0;34m,\u001b[0m \u001b[0mc\u001b[0m \u001b[0;32min\u001b[0m \u001b[0mlist\u001b[0m\u001b[0;34m(\u001b[0m\u001b[0mnode_colors\u001b[0m\u001b[0;34m.\u001b[0m\u001b[0mitems\u001b[0m\u001b[0;34m(\u001b[0m\u001b[0;34m)\u001b[0m\u001b[0;34m)\u001b[0m\u001b[0;34m:\u001b[0m\u001b[0;34m\u001b[0m\u001b[0m\n",
        "\u001b[0;31mNameError\u001b[0m: name 'os' is not defined"
       ]
      }
     ],
     "prompt_number": 1
    },
    {
     "cell_type": "code",
     "collapsed": false,
     "input": [
      "from pathomx.displayobjects import Html # We've got the html page; pull out the image\n",
      "# <img src=\"/tmp/mark_pathway13818418802193/hsa05200.1.png\" name=\"pathwayimage\" usemap=\"#mapdata\" border=\"0\" />\n",
      "m = re.search('\\<img src=\"(.*)\" name=\"pathwayimage\"', html)\n",
      "img = m.group(1)\n",
      "\n",
      "m = re.search('^KEGG PATHWAY: (.*)$', html, flags=re.MULTILINE)\n",
      "title = m.group(1)\n",
      "output_html = '<html><body><img src=\"http://www.kegg.jp%s\"></body></html>' % img\n",
      "\n",
      "View = Html(output_html)"
     ],
     "language": "python",
     "metadata": {},
     "outputs": []
    }
   ],
   "metadata": {}
  }
 ]
}