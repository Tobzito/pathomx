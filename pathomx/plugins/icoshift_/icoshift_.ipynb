{
 "metadata": {
  "name": "",
  "signature": "sha256:ab99ebf6a17e65fe6d98c25617cc6822221226e90b35ae0b108d7e46fc0b550f"
 },
 "nbformat": 3,
 "nbformat_minor": 0,
 "worksheets": [
  {
   "cells": [
    {
     "cell_type": "markdown",
     "metadata": {},
     "source": [
      "icoShift\n",
      "========\n",
      "\n",
      "A versatile tool for the rapid alignment of 1D NMR spectra.  \n",
      "Francesco Savorani, Giorgio Tomasi <small>(Icoshift algorithm)</small>, [Martin A. Fitzpatrick][] <small>(Python implementation and Pathomx plugin)</small>\n",
      "\n",
      "Introduction\n",
      "------------\n",
      "\n",
      "This notebook uses the Python implementation of the Icoshift algorithm. This is a work-in-progress and incomplete, but should work for most common use cases. \n",
      "\n",
      "  [Martin A. Fitzpatrick]: http://martinfitzpatrick.name/"
     ]
    },
    {
     "cell_type": "code",
     "collapsed": false,
     "input": [
      "from icoshift import icoshift\n",
      "import pandas as pd\n",
      "\n",
      "spectra = input_data.values\n",
      "\n",
      "xCS, ints, ind, target = icoshift.icoshift(config.get('target'), spectra, inter=config.get('alignment_mode'), n=config.get('maximum_shift'))\n",
      "\n",
      "output_data = pd.DataFrame( xCS )\n",
      "output_data.index = input_data.index\n",
      "output_data.columns = input_data.columns"
     ],
     "language": "python",
     "metadata": {},
     "outputs": []
    },
    {
     "cell_type": "code",
     "collapsed": false,
     "input": [
      "# Generate simple result figure (using pathomx libs)\n",
      "from pathomx.figures import spectra\n",
      "\n",
      "View = spectra(output_data, styles=styles);"
     ],
     "language": "python",
     "metadata": {},
     "outputs": []
    }
   ],
   "metadata": {}
  }
 ]
}