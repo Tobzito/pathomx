{
 "metadata": {
  "name": "",
  "signature": "sha256:74caa0f12ffdd43ad0b37d3dc5e5c832cd81553bb1a50195ce4ae7a1a6147d8f"
 },
 "nbformat": 3,
 "nbformat_minor": 0,
 "worksheets": [
  {
   "cells": [
    {
     "cell_type": "markdown",
     "metadata": {},
     "source": [
      "NMRLab Bucket Spectra\n",
      "================\n",
      "\n",
      "Bucket spectra using processing algorithm from NMRLab/Metabolab MATLAB package. [U. Gunther][], [C. Ludwig][U. Gunther] <small>(NMRLab/Metabolab)</small>, [Martin A. Fitzpatrick][] <small>(Pathomx plugin)</small>\n",
      "\n",
      "Introduction\n",
      "------------\n",
      "\n",
      "[NMRLab][U. Gunther] is NMR processing software package written in MATLAB. It contains of a series of processing algorithms for 1D, 2D and 3D processing including apodization functions, linear prediction, Fourier transformation, baseline correction. It also includes routines for wavelet denoising of spectra.\n",
      "\n",
      "To use NMRLab/Metabolab you need a license available [here][]. Please sign and date this license agreement, fax the document to the fax number indicated in the license document and send an email to <C.Ludwig@@bham.ac.uk> or <U.L.Gunther@@bham.ac.uk> to obtain a download username and password. Please also indicate for which software package you would like to obtain the password. Download and install NMRLab/Metabolab in MATLAB before using this plugin.\n",
      "\n",
      "[MetaboLab][U. Gunther] is an extension of NMRLab for metabolomics post-processing. It includes routines for Bruker and Varian data, including alignment tools, various scaling algorithms (autoscale, Pareto scaling and glog transform), graphical selection of exclusion regions, bucketing, wavelet de-noising algorithms and links to PCA and PLS algorithms.\n",
      "\n",
      "This plugin is a wrapper interface to a selection of the tools offered by both NMRLab and Metabolab. Use of this plugin requires an installation and license for Matlab and NMRLab/Metabolab. You can download NMRLab/Metabolab from [here][U. Gunther].\n",
      "\n",
      "References\n",
      "----------\n",
      "\n",
      "1.  U.L. G\u00fcnther, C. Ludwig, H. R\u00fcterjans [NMRLAB - Advanced NMR Data Processing in Matlab][]. J Magn Reson, 145(2), 201-208 (2000)\n",
      "2.  C. Ludwig and U. G\u00fcnther [MetaboLab - advanced NMR data processing and analysis for metabolomics][]. BMC Bioinformatics, 12, 366, (2011)\n",
      "\n",
      "\n",
      "  [U. Gunther]: http://beregond.bham.ac.uk/nmrlab/\n",
      "  [Martin A. Fitzpatrick]: http://martinfitzpatrick.name/\n",
      "  [here]: http://beregond.bham.ac.uk/nmrlab/license.html\n",
      "  [NMRLAB - Advanced NMR Data Processing in Matlab]: http://dx.doi.org/10.1006/jmre.2000.2071\n",
      "  [MetaboLab - advanced NMR data processing and analysis for metabolomics]: http://dx.doi.org/10.1186/1471-2105-12-366"
     ]
    },
    {
     "cell_type": "code",
     "collapsed": false,
     "input": [
      "%load_ext pymatbridge"
     ],
     "language": "python",
     "metadata": {},
     "outputs": []
    },
    {
     "cell_type": "code",
     "collapsed": false,
     "input": [
      "import pandas as pd\n",
      "import numpy as np\n",
      "\n",
      "# Convert ppm size into number of points\n",
      "# Get start-end range, divide by number of elements = ppm step size\n",
      "# Divide ppm bin value by step size = number of steps (round to nearest)\n",
      "\n",
      "scale = input_data.columns\n",
      "\n",
      "step_size = (max(scale) - min(scale)) / len(scale)\n",
      "points = config.get('bin_size') / step_size\n",
      "points = int(round(points / 2))\n",
      "print(\"step_size %s, ppm %s = points %s\" % (step_size, config.get('bin_size'), points))\n",
      "\n",
      "datamatrix = input_data.values.T;\n",
      "a = 5;\n",
      "b = 10;"
     ],
     "language": "python",
     "metadata": {},
     "outputs": []
    },
    {
     "cell_type": "code",
     "collapsed": false,
     "input": [
      "%%matlab -i a,b -o c\n",
      "c = a+b;"
     ],
     "language": "python",
     "metadata": {},
     "outputs": []
    },
    {
     "cell_type": "markdown",
     "metadata": {},
     "source": [
      "%%matlab -i datamatrix,points -o datamatrixbucketed\n",
      "datamatrixbucketed = spcbucket(datamatrix, points);"
     ]
    },
    {
     "cell_type": "code",
     "collapsed": false,
     "input": [
      "#\u00a0Recreate a dataframe from the returned spectra\n",
      "datamatrixbucketed = datamatrixbucketed.T\n",
      "\n",
      "output_data = pd.DataFrame( datamatrixbucketed )\n",
      "output_data.index = input_data.index\n",
      "\n",
      "new_scale = np.linspace(min(scale), max(scale), output_data.shape[1])\n",
      "output_data.columns = new_scale\n",
      "\n",
      "output_data"
     ],
     "language": "python",
     "metadata": {},
     "outputs": []
    },
    {
     "cell_type": "code",
     "collapsed": false,
     "input": [
      "# Generate simple result figure (using pathomx libs)\n",
      "from pathomx.figures import spectra\n",
      "\n",
      "View = spectra(output_data, styles=styles);"
     ],
     "language": "python",
     "metadata": {},
     "outputs": []
    }
   ],
   "metadata": {}
  }
 ]
}