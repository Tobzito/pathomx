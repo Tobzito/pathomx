{
 "metadata": {
  "name": "",
  "signature": "sha256:6261de5afaa839f0f2c262d4f903d937e0ec35db41e2ab484ffe0d96d5243c76"
 },
 "nbformat": 3,
 "nbformat_minor": 0,
 "worksheets": [
  {
   "cells": [
    {
     "cell_type": "markdown",
     "metadata": {},
     "source": [
      "Regression & Fitting\n",
      "====================\n",
      "\n",
      "Regression of two variables with plot and fitting data. [Martin A. Fitzpatrick][]\n",
      "\n",
      "Introduction\n",
      "------------\n",
      "\n",
      "Regression analysis is a statistical process for estimating the relationships among variables.\n",
      "\n",
      "  [Martin A. Fitzpatrick]: http://martinfitzpatrick.name/\n"
     ]
    },
    {
     "cell_type": "code",
     "collapsed": false,
     "input": [
      "import pandas as pd\n",
      "import numpy as np\n",
      "import scipy as sp\n",
      "import scipy.stats\n",
      "\n",
      "# Build the labels for axes\n",
      "if type(input_data.columns) == pd.MultiIndex:\n",
      "    labels = input_input_data.columns.values( input_data.columns.names.index(0) )\n",
      "\n",
      "else: # pd.Index\n",
      "    labels = input_data.columns.values\n",
      "\n"
     ],
     "language": "python",
     "metadata": {},
     "outputs": []
    },
    {
     "cell_type": "code",
     "collapsed": false,
     "input": [
      "correlations = {}\n",
      "for n, v in enumerate(config.get('variables')):\n",
      "    a, b = v\n",
      "    x = input_data.ix[:, a ] \n",
      "    y = input_data.ix[:, b ]  \n",
      "\n",
      "    fit = np.polyfit(x,y,1)\n",
      "\n",
      "    do = pd.DataFrame( np.zeros((len(x),2 )) )\n",
      "\n",
      "    do.ix[:,0] = x.values\n",
      "    do.ix[:,1] = y.values\n",
      "    \n",
      "    do.columns = pd.Index( [labels[a], labels[b]], names='Label' )\n",
      "    \n",
      "    # Keep class information for plot (make optional)\n",
      "    do.index = input_data.index\n",
      "    \n",
      "    slope, intercept, r_value, p_value, std_err = sp.stats.linregress(x, y)\n",
      "\n",
      "    correlations[\"R%d\" % (n+1)] = {\n",
      "        'data': do,\n",
      "        'fit': fit,\n",
      "        'label': u'r\u00b2=%0.2f, p=%0.2f' % (r_value**2, p_value)\n",
      "    }\n",
      "do = None;"
     ],
     "language": "python",
     "metadata": {},
     "outputs": []
    },
    {
     "cell_type": "code",
     "collapsed": false,
     "input": [
      "# Generate simple result figure (using pathomx libs)\n",
      "from pathomx.figures import scatterplot\n",
      "\n",
      "for k,c in correlations.items():\n",
      "    x_data = np.linspace(np.min(c['data'].ix[:,0]), np.max(c['data'].ix[:,0]), 50)\n",
      "    lines = [\n",
      "        (x_data, np.polyval(c['fit'], x_data), c['label'])\n",
      "    ]\n",
      "\n",
      "    vars()[k] = scatterplot(c['data'], lines=lines, styles=styles);\n",
      "\n"
     ],
     "language": "python",
     "metadata": {},
     "outputs": []
    }
   ],
   "metadata": {}
  }
 ]
}