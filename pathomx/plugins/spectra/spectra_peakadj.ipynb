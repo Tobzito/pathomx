{
 "metadata": {
  "name": "",
  "signature": "sha256:058ee077872750bd78660a4cce309e99c1d2aaff326fef03740047de6ececf5a"
 },
 "nbformat": 3,
 "nbformat_minor": 0,
 "worksheets": [
  {
   "cells": [
    {
     "cell_type": "markdown",
     "metadata": {},
     "source": [
      "Spectra Peak Shifting and Scaling\n",
      "=================================\n",
      "\n",
      "Shift (frequency) and scale (amplitude) spectra using a reference peak (e.g. TMSP).  \n",
      "[Martin A. Fitzpatrick][]\n",
      "\n",
      "Introduction\n",
      "------------\n",
      "\n",
      "Normalisation is often used with spectra to compensate for gross differences in dilution that may mask the actual biological differences of interest. For example, urine volume varies widely while metabolite excretion (the interesting bit) is often relatively constant. This plugin provides algorithms for performing two common normalisation approaches: Total Spectral Area (TSA) and Probabilistic Quotient Normalization (PQN).\n",
      "\n",
      "Quick start\n",
      "-----------\n",
      "\n",
      "[Select source data][] input and enter the experimental comparison on the data and the spectra will be shown in the view tab. Adjust the algorithm and the spectra view will update to show the resulting normalised dataset. The affect of the normalisation can be seen on the \u2018Change\u2019 tab.\n",
      "\n",
      "  [Martin A. Fitzpatrick]: http://martinfitzpatrick.name/\n",
      "  [Select source data]: pathomx://@view.id/default_actions/data_source/add"
     ]
    },
    {
     "cell_type": "code",
     "collapsed": false,
     "input": [
      "import nmrglue as ng\n",
      "import numpy as np\n",
      "import pandas as pd"
     ],
     "language": "python",
     "metadata": {},
     "outputs": [],
     "prompt_number": 1
    },
    {
     "cell_type": "code",
     "collapsed": false,
     "input": [
      "# Get the target region from the spectra (will be using this for all calculations;\n",
      "# then applying the result to the original data)\n",
      "scale = input_data.columns\n",
      "\n",
      "target_ppm = config.get('peak_target_ppm')\n",
      "tolerance_ppm = config.get('peak_target_ppm_tolerance')\n",
      "start_ppm = target_ppm - tolerance_ppm\n",
      "end_ppm = target_ppm + tolerance_ppm\n",
      "\n",
      "start = min(list(range(len(scale))), key=lambda i: abs(scale[i]-start_ppm))        \n",
      "end = min(list(range(len(scale))), key=lambda i: abs(scale[i]-end_ppm))        \n",
      "\n",
      "# Shift first; then scale\n",
      "d = 1 if end>start else -1\n",
      "data = input_data.iloc[:,start:end:d]\n",
      "region_scales = scale[start:end:d]\n",
      "#region_labels = labels[start:end:d]\n",
      "#region_entities = dsientities[1][start:end:d]\n",
      "\n",
      "pcentre = min(list(range(len(region_scales))), key=lambda i: abs(region_scales[i]-target_ppm))  # Base centre point to shift all spectra to\n"
     ],
     "language": "python",
     "metadata": {},
     "outputs": []
    },
    {
     "cell_type": "code",
     "collapsed": false,
     "input": [
      "reference_peaks = []\n",
      "for index, sdata in data.iterrows():\n",
      "    baseline = sdata.max() * .9 # 90% baseline of maximum peak within target region\n",
      "    locations, scales, amps = ng.analysis.peakpick.pick(sdata, pthres=baseline, algorithm='connected', est_params = True, cluster=False, table=False)\n",
      "    if len(locations) > 0:\n",
      "        reference_peaks.append({\n",
      "            'location':locations[0][0], #FIXME: better behaviour when >1 peak\n",
      "            'scale':scales[0][0],\n",
      "            'amplitude':amps[0],\n",
      "        })\n",
      "    else:\n",
      "        reference_peaks.append(None)\n"
     ],
     "language": "python",
     "metadata": {},
     "outputs": []
    },
    {
     "cell_type": "code",
     "collapsed": false,
     "input": [
      "if config.get('shifting_enabled'):\n",
      "    # Take a np array for speed on shifting\n",
      "    shift_array = input_data.values\n",
      "    # Now shift the original spectra to fi\n",
      "    for n,refp in enumerate(reference_peaks):\n",
      "        if refp:\n",
      "            # Shift the spectra\n",
      "            shift = (pcentre-refp['location']) * d\n",
      "            # FIXME: This is painfully slow\n",
      "            if shift > 0:\n",
      "                shift_array[n, shift:-1] = shift_array[n, 0:-(shift+1)]\n",
      "            elif shift < 0:\n",
      "                shift_array[n, 0:shift-1] = shift_array[n, abs(shift):-1]\n",
      "\n",
      "    input_data = pd.DataFrame( shift_array, index=input_data.index, columns=input_data.columns)\n"
     ],
     "language": "python",
     "metadata": {},
     "outputs": []
    },
    {
     "cell_type": "code",
     "collapsed": false,
     "input": [
      "if config.get('scaling_enabled'):\n",
      "    # Get mean reference peak size\n",
      "    reference_peak_mean = np.mean( [r['scale'] for r in reference_peaks if r ] )\n",
      "    print('Reference peak mean %s' % reference_peak_mean)\n",
      "\n",
      "    # Now scale; using the same peak regions & information (so we don't have to worry about something\n",
      "    # being shifted out of the target region in the first step)\n",
      "    for n,refp in enumerate(reference_peaks):\n",
      "        if refp:\n",
      "            # Scale the spectra\n",
      "            amplitude = reference_peak_mean/refp['amplitude']\n",
      "            input_data.iloc[n] *= amplitude\n",
      "            "
     ],
     "language": "python",
     "metadata": {},
     "outputs": []
    },
    {
     "cell_type": "code",
     "collapsed": false,
     "input": [
      "# -- optionally use the line widths and take max within each of these for each spectra (peak shiftiness)\n",
      "# Filter the original data with those locations and output\\\n",
      "\n",
      "output_data = input_data\n",
      "\n",
      "region = output_data.iloc[:,start:end:d]"
     ],
     "language": "python",
     "metadata": {},
     "outputs": []
    },
    {
     "cell_type": "code",
     "collapsed": false,
     "input": [
      "# Generate simple result figure (using pathomx libs)\n",
      "from pathomx.figures import spectra\n",
      "\n",
      "View = spectra(output_data, styles=styles);\n",
      "Region = spectra(region, styles=styles);"
     ],
     "language": "python",
     "metadata": {},
     "outputs": []
    },
    {
     "cell_type": "code",
     "collapsed": false,
     "input": [
      "data = None;\n"
     ],
     "language": "python",
     "metadata": {},
     "outputs": []
    }
   ],
   "metadata": {}
  }
 ]
}