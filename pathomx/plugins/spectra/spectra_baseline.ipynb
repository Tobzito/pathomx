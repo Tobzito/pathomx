{
 "metadata": {
  "name": "",
  "signature": "sha256:8282bceacbd56258765ec5e9e58536a23c0f3878da842ea1499c9ab6da12d5de"
 },
 "nbformat": 3,
 "nbformat_minor": 0,
 "worksheets": [
  {
   "cells": [
    {
     "cell_type": "markdown",
     "metadata": {},
     "source": [
      "NMR Baseline Correction\n",
      "=======================\n",
      "\n",
      "Correct baseline of NMR spectra using `nmrglue` baseline algorithm.  \n",
      "[Martin A. Fitzpatrick][]\n",
      "\n",
      "Introduction\n",
      "------------\n",
      "\n",
      "Quick start\n",
      "-----------\n",
      "\n",
      "Select source data input and select the baseline algorithm.\n",
      "\n",
      "\n",
      "  [Martin A. Fitzpatrick]: http://martinfitzpatrick.name/"
     ]
    },
    {
     "cell_type": "code",
     "collapsed": false,
     "input": [
      "import pandas as pd\n",
      "import numpy as np\n",
      "import nmrglue as ng\n",
      "\n",
      "import os\n",
      "import csv\n",
      "from collections import defaultdict"
     ],
     "language": "python",
     "metadata": {},
     "outputs": []
    },
    {
     "cell_type": "code",
     "collapsed": false,
     "input": [
      "# Get the target region from the spectra (will be using this for all calculations;\n",
      "# then applying the result to the original data)\n",
      "if type(input_data.columns) == pd.MultiIndex:\n",
      "    scale = input_data.columns.labels[ b.columns.names.index('Scale') ]\n",
      "else:\n",
      "    scale = input_data.columns.values\n",
      "\n",
      "algorithm = config.get('algorithm')\n",
      "\n",
      "# Medium algorithm vars\n",
      "med_mw = config.get('med_mw')\n",
      "med_sf = config.get('med_sf')\n",
      "med_sigma = config.get('med_sigma')\n",
      "\n",
      "# Cbf pc algorithm vars\n",
      "cbf_last_pc = config.get('cbf_last_pc')\n",
      "\n",
      "# Cbf explicit algorithm vars\n",
      "cbf_explicit_start = config.get('cbf_explicit_start')\n",
      "cbf_explicit_end = config.get('cbf_explicit_start')\n",
      "\n",
      "for n, dr in enumerate(input_data.values):\n",
      "\n",
      "    if algorithm == 'median':\n",
      "        dr = ng.process.proc_bl.med(dr, mw=med_mw, sf=med_sf, sigma=med_sigma)\n",
      "\n",
      "    elif algorithm == 'cbf_pc':\n",
      "        dr = ng.process.proc_bl.cbf(dr, last=cbf_last_pc)\n",
      "\n",
      "    elif algorithm == 'cbf_explicit':\n",
      "        dr = ng.process.proc_bl.cbf_explicit(dr, calc=slice(cbf_explicit_start, cbf_explicit_end))\n",
      "\n",
      "    input_data.values[n, :] = dr\n",
      "\n",
      "    \n",
      "output_data = input_data"
     ],
     "language": "python",
     "metadata": {},
     "outputs": []
    },
    {
     "cell_type": "code",
     "collapsed": false,
     "input": [
      "# Generate simple result figure (using pathomx libs)\n",
      "from pathomx.figures import spectra\n",
      "\n",
      "View = spectra(output_data, styles=styles);\n"
     ],
     "language": "python",
     "metadata": {},
     "outputs": []
    }
   ],
   "metadata": {}
  }
 ]
}