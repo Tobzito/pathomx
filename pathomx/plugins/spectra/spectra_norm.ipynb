{
 "metadata": {
  "name": "",
  "signature": "sha256:00428b1d540fa8355956d79e78281c5d5b7351e34bc1ba42c183a206afdb9c20"
 },
 "nbformat": 3,
 "nbformat_minor": 0,
 "worksheets": [
  {
   "cells": [
    {
     "cell_type": "markdown",
     "metadata": {},
     "source": [
      "Spectra normalisation\n",
      "=====================\n",
      "\n",
      "Algorithmically normalise spectra using TSA or PQN algorithms.  \n",
      "[Martin A. Fitzpatrick][]\n",
      "\n",
      "Introduction\n",
      "------------\n",
      "\n",
      "Normalisation is often used with spectra to compensate for gross differences in dilution that may mask the actual biological differences of interest. For example, urine volume varies widely while metabolite excretion (the interesting bit) is often relatively constant. This plugin provides algorithms for performing two common normalisation approaches: Total Spectral Area (TSA) and Probabilistic Quotient Normalization (PQN).\n",
      "\n",
      "Quick start\n",
      "-----------\n",
      "\n",
      "[Select source data][] input and enter the experimental comparison on the data and the spectra will be shown in the view tab. Adjust the algorithm and the spectra view will update to show the resulting normalised dataset. The affect of the normalisation can be seen on the \u2018Change\u2019 tab.\n",
      "\n",
      "  [Martin A. Fitzpatrick]: http://martinfitzpatrick.name/\n",
      "  [Select source data]: pathomx://@view.id/default_actions/data_source/add"
     ]
    },
    {
     "cell_type": "code",
     "collapsed": false,
     "input": [
      "import numpy as np\n",
      "import pandas as pd\n",
      "\n",
      "# Abs the data (so account for negative peaks also)\n",
      "data_a = np.abs( input_data.values )\n",
      "# Sum each spectra (TSA)\n",
      "data_as = np.sum( data_a, axis=1 )\n",
      "# Identify median\n",
      "median_s = np.median( data_as )\n",
      "# Scale others to match (*(median/row))\n",
      "scaling = median_s / data_as\n",
      "# Scale the spectra\n",
      "tsa_data = input_data.T * scaling\n",
      "tsa_data = tsa_data.T\n",
      "\n",
      "if config['algorithm'] == 'TSA':\n",
      "    output_data = tsa_data\n",
      "    \n",
      "elif config['algorithm'] == 'PQN':\n",
      "    # Take result of TSA normalization    \n",
      "    # Calculate median spectrum (median of each variable)\n",
      "    median_s = np.median(tsa_data, axis=0)\n",
      "    # For each variable of each spectrum, calculate ratio between median spectrum variable and that of the considered spectrum\n",
      "    spectra_r = median_s / np.abs(input_data)\n",
      "    # Take the median of these scaling factors\n",
      "    scaling = np.median(spectra_r, axis=1)\n",
      "    #Apply to the entire considered spectrum\n",
      "    output_data = input_data.T * scaling\n",
      "    output_data = output_data.T\n",
      "    \n",
      "    \n",
      "data = None; # Clear so not expored\n",
      "data_a = None;\n",
      "data_as = None;\n",
      "media_as = None;\n",
      "scaling = None;\n",
      "spectra_r = None;\n",
      "tsa_data = None;"
     ],
     "language": "python",
     "metadata": {},
     "outputs": []
    },
    {
     "cell_type": "code",
     "collapsed": false,
     "input": [
      "# Generate simple result figure (using pathomx libs)\n",
      "from pathomx.figures import spectra\n",
      "\n",
      "View = spectra(output_data, styles=styles)"
     ],
     "language": "python",
     "metadata": {},
     "outputs": []
    },
    {
     "cell_type": "code",
     "collapsed": false,
     "input": [
      "View"
     ],
     "language": "python",
     "metadata": {},
     "outputs": []
    }
   ],
   "metadata": {}
  }
 ]
}