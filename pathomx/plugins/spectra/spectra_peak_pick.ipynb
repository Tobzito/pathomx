{
 "metadata": {
  "name": "",
  "signature": "sha256:1e44cd94182ec1976d7cfb676048f8d50e5efc9d6e0ac6f89b82808c27dbce8b"
 },
 "nbformat": 3,
 "nbformat_minor": 0,
 "worksheets": [
  {
   "cells": [
    {
     "cell_type": "markdown",
     "metadata": {},
     "source": [
      "Peak Picking\n",
      "============\n",
      "\n",
      "Algorithmically pick peaks in NMR spectra data. [Martin A. Fitzpatrick][]\n",
      "\n",
      "Introduction\n",
      "------------\n",
      "\n",
      "Peak picking is a method to identify regions of interest in source spectra based. Peaks are isolated by threshold (size) to exclude noise in the background from subsequent analysis. This plugin allows automated picking on peaks from spectra, with an optional additional peak-separation optimisation to avoid adjacent peak interference.\n",
      "\n",
      "Quick start\n",
      "-----------\n",
      "\n",
      "[Select source data][] input and enter the experimental comparison on the data and the spectra will be shown in the view tab. Adjust the threshold and peak separation from the main toolbar and the spectra view will update to show the resulting reduced dataset.\n",
      "\n",
      "Notes\n",
      "-----\n",
      "\n",
      "Peaks are picked on a mean summary across all spectra then values for each peak taken across each individual spectra. Further optimisations, including clustering and banding to compensate for peak wobble are planned in future.\n",
      "\n",
      "  [Martin A. Fitzpatrick]: http://martinfitzpatrick.name/\n",
      "  [Select source data]: pathomx://@view.id/default_actions/data_source/add\n"
     ]
    },
    {
     "cell_type": "code",
     "collapsed": false,
     "input": [
      "import nmrglue as ng\n",
      "import pandas as pd\n",
      "import numpy as np\n",
      "\n",
      "# Generate bin values for range start_scale to end_scale\n",
      "# Calculate the number of bins at binsize across range\n",
      "\n",
      "algorithms = {\n",
      "    'Connected':'connected',\n",
      "    'Threshold':'thres',\n",
      "    'Threshold (fast)':'thres-fast',\n",
      "    'Downward':'downward',\n",
      "        }\n",
      "\n",
      "threshold =  config['peak_threshold']\n",
      "algorithm = algorithms[ config['peak_algorithm'] ]\n",
      "msep = ( config['peak_separation'],)\n"
     ],
     "language": "python",
     "metadata": {},
     "outputs": []
    },
    {
     "cell_type": "code",
     "collapsed": false,
     "input": [
      "# Take input dataset and flatten in first dimension (average spectra)\n",
      "data_avg = input_data.mean() #np.mean( input.data, axis=0)\n",
      "# pick peaks and return locations; \n",
      "#nmrglue.analysis.peakpick.pick(data, pthres, nthres=None, msep=None, algorithm='connected', est_params=True, lineshapes=None, edge=None, diag=False, c_struc=None, c_ndil=0, cluster=True, table=True, axis_names=['A', 'Z', 'Y', 'X'])[source]\u00b6\n",
      "locations, scales, amps = ng.analysis.peakpick.pick(data_avg.values, threshold, msep=msep, algorithm=algorithm, est_params = True, cluster=False, table=False)\n"
     ],
     "language": "python",
     "metadata": {},
     "outputs": []
    },
    {
     "cell_type": "code",
     "collapsed": false,
     "input": [
      "\n",
      "#n_cluster = max( cluster_ids )\n",
      "n_locations = len( locations )\n",
      "\n",
      "new_shape = list( input_data.shape )\n",
      "new_shape[1] = n_locations # correct number; tho will be zero indexed\n",
      "\n",
      "# Convert to numpy arrays so we can do clever things\n",
      "scales = input_data.columns.values\n",
      "scales = [scales[l[0]] for l in locations ]\n"
     ],
     "language": "python",
     "metadata": {},
     "outputs": []
    },
    {
     "cell_type": "code",
     "collapsed": false,
     "input": [
      "output_data = pd.DataFrame( np.zeros(new_shape) )\n",
      "\n",
      "# Iterate over the clusters (1 to n)\n",
      "for n, l in enumerate(locations):\n",
      "    #l = locations[ cluster_ids == n ]\n",
      "    #peak_data = np.amax( peak_data, axis=1 ) # max across cols\n",
      "    print n, l\n",
      "    output_data.iloc[:,n] = input_data.values[:, l[0]]\n",
      "\n",
      "output_data.index = input_data.index\n",
      "output_data.columns = scales\n",
      "\n",
      "# FIXME:\n",
      "# Extract the location numbers (positions in original spectra)\n",
      "# Get max value in each row for those regions\n",
      "# Append that to n position in new dataset\n",
      "\n",
      "# -- optionally use the line widths and take max within each of these for each spectra (peak shiftiness)\n",
      "# Filter the original data with those locations and output\\\n"
     ],
     "language": "python",
     "metadata": {},
     "outputs": []
    },
    {
     "cell_type": "code",
     "collapsed": true,
     "input": [
      "output_data"
     ],
     "language": "python",
     "metadata": {},
     "outputs": []
    },
    {
     "cell_type": "code",
     "collapsed": false,
     "input": [
      "# Generate simple result figure (using pathomx libs)\n",
      "from pathomx.figures import spectra\n",
      "\n",
      "View = spectra(output_data, styles=styles);"
     ],
     "language": "python",
     "metadata": {},
     "outputs": []
    }
   ],
   "metadata": {}
  }
 ]
}