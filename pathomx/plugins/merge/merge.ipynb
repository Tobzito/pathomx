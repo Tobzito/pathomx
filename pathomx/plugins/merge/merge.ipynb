{
 "metadata": {
  "name": "",
  "signature": "sha256:2aead1c6352d42268a094d1f7a40344be52369acf135bbedcfd941bb917628e3"
 },
 "nbformat": 3,
 "nbformat_minor": 0,
 "worksheets": [
  {
   "cells": [
    {
     "cell_type": "markdown",
     "metadata": {},
     "source": [
      "Merge Datasets\n",
      "==============\n",
      "\n",
      "Merge two datasets along their matching axis.    \n",
      "[Martin A. Fitzpatrick][]\n",
      "\n",
      "  [Martin A. Fitzpatrick]: http://martinfitzpatrick.name/\n"
     ]
    },
    {
     "cell_type": "code",
     "collapsed": false,
     "input": [
      "import pandas as pd\n",
      "\n",
      "# Check they are of the same dimensionality\n",
      "assert len(input_1.shape) == len(input_2.shape)\n",
      "\n",
      "input_1.shape, input_2.shape"
     ],
     "language": "python",
     "metadata": {},
     "outputs": []
    },
    {
     "cell_type": "code",
     "collapsed": false,
     "input": [
      "if input_1.shape[0] == input_2.shape[0]:\n",
      "    # We match on axis 0, go with it\n",
      "    output_data = pd.concat( [input_1, input_2], axis=0)\n",
      "    \n",
      "elif input_1.shape[1] == input_2.shape[1]: \n",
      "    # We match on axis 1, go with that\n",
      "    output_data = pd.concat( [input_1, input_2], axis=1)\n",
      "\n",
      "else:\n",
      "    assert False, \"Couldn't find matching dimension\"\n",
      "    "
     ],
     "language": "python",
     "metadata": {},
     "outputs": []
    }
   ],
   "metadata": {}
  }
 ]
}