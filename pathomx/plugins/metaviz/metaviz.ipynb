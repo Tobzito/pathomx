{
 "metadata": {
  "name": "",
  "signature": "sha256:6dece367a43da9f403e0492ad01e5cc976ed0dde84d338d6a26a5bea99b3e724"
 },
 "nbformat": 3,
 "nbformat_minor": 0,
 "worksheets": [
  {
   "cells": [
    {
     "cell_type": "markdown",
     "metadata": {},
     "source": [
      "MetaViz\n",
      "=======\n",
      "\n",
      "Metabolic pathway visualisation and analysis powered by GraphViz.  \n",
      "[Martin A. Fitzpatrick][]\n",
      "\n",
      "Introduction\n",
      "------------\n",
      "\n",
      "Select \u2018Pathways\u2019 to show from the config panle.\n",
      "\n",
      "This displays the pathway selection dialog where you can opt to show any pathways currently in the local database. You can select individual pathways by clicking, or select multiple pathways with Option-click (Mac) or Ctrl-click (Windows). You can also bulk add/remove pathways using the search box beneath. This optionally supports regular expressions allowing for specific matching of complex names.\n",
      "\n",
      "You can also opt to hide specific pathways from view. Pathways selected in this dialog will not be displayed (even if specifically requested in the show pathway box. You may find this useful if you are working on cells or organisms that do not feature particular pathways.\n",
      "\n",
      "Back on the \u2018Pathways\u2019 menu you can also opt to \u2018Highlight Reaction Pathways\u2019 to color pathways by colour and to \u2018Show Links to Hidden Pathways\u2019 which shows links from metabolites to currently invisible pathways. This can be useful to see currently hidden links between metabolites. *Note: This can sometimes take a while to complete, particularly on large maps.* Pathway nodes can be clicked to access database metadata.\n",
      "\n",
      "You can also simplify/further annotation the pathway map using the config panel including adding 2\u00b0 metabolites, enzymes/reaction names, and pathway-analysis hints showing metabolite connectivity.\n",
      "\n",
      "*Note: Pathomx\u2019s choices for color-scale may be overridden if required from the data menu.*\n",
      "\n",
      "Metabolite concentration delta (difference between control and test) is shown on the metabolic pathway map by colour scale with blue indicating down and red up. \n",
      "\n",
      "\n",
      "  [Martin A. Fitzpatrick]: http://martinfitzpatrick.name/"
     ]
    },
    {
     "cell_type": "code",
     "collapsed": false,
     "input": [
      "from biocyc import biocyc, Pathway\n",
      "biocyc.set_organism('HUMAN')\n",
      "\n",
      "import metaviz\n",
      "import tempfile\n",
      "\n",
      "import pandas as pd\n",
      "\n",
      "if compound_data is not None or gene_data is not None or protein_data is not None:\n",
      "\n",
      "    analysis = {}\n",
      "    for data in compound_data, gene_data, protein_data:\n",
      "        if data is None:\n",
      "            continue\n",
      "\n",
      "        #\u00a0We need BioCyc identifiers to work with the MetaViz module\n",
      "        if 'BioCyc' not in data.columns.names:\n",
      "            continue\n",
      "        \n",
      "        ids = data.columns.values[ data.columns.names.index('BioCyc') ]\n",
      "        # We can only use a single row at the moment, so process through fold change etc. first\n",
      "        values = data.iloc[1]\n",
      "        \n",
      "        this_analysis = dict( zip(ids,values) )\n",
      "        analysis = dict( analysis.items() + this_analysis.items() )\n",
      "            \n",
      "else:\n",
      "    analysis = None\n",
      "    \n",
      "    \n",
      "if suggested_pathways is not None:\n",
      "    #\u00a0Pathways should come in as a column set named 'BioCyc' but containing Pathway objects\n",
      "    if 'BioCyc' in suggested_pathways.columns.names:\n",
      "        if type(suggested_pathways.columns) == pd.Index:\n",
      "            ids = suggested_pathways.columns.values\n",
      "        elif type(suggested_pathways.columns) == pd.MultiIndex:\n",
      "            ids = suggested_pathways.columns.values[ suggested_pathways.columns.names.index('BioCyc') ]\n",
      "            \n",
      "    pathways = []\n",
      "    for id in ids:\n",
      "        p = biocyc.get(id)\n",
      "        try:\n",
      "            p = biocyc.get(id)\n",
      "        except:\n",
      "            pass\n",
      "        else:\n",
      "            if type(p) == Pathway:\n",
      "                pathways.append(p)\n",
      "else:\n",
      "    pathways = []\n",
      "pathways.extend( config['show_pathways'] )\n",
      "pathways = [p for p in pathways if p not in config['hide_pathways']]\n",
      "\n",
      "pathways = list( set( pathways ) )\n"
     ],
     "language": "python",
     "metadata": {},
     "outputs": []
    },
    {
     "cell_type": "code",
     "collapsed": false,
     "input": [
      "reactions = ['PYRUVDEH-RXN']"
     ],
     "language": "python",
     "metadata": {},
     "outputs": []
    },
    {
     "cell_type": "code",
     "collapsed": false,
     "input": [
      "# By default use the generated pathomx file to view\n",
      "filename = tempfile.mkstemp(suffix='svg')\n",
      "graph = metaviz.generate(pathways, reactions=reactions, **{\n",
      "    'cluster_by': config['cluster_by'],\n",
      "    'show_enzymes': config['show_enzymes'],\n",
      "    'show_secondary': config['show_secondary'],\n",
      "    'show_molecular': config['show_molecular'],\n",
      "    'show_network_analysis': config['show_network_analysis'],\n",
      "    'show_gibbs': config['show_gibbs'],\n",
      "\n",
      "    'highlightpathways': config['highlightpathways'],\n",
      "    'highlightregions': config['highlightregions'],\n",
      "\n",
      "    'show_pathway_links': config['show_pathway_links'],\n",
      "})\n",
      "graph.write(filename[1], format=config['output_format'], prog='neato')"
     ],
     "language": "python",
     "metadata": {},
     "outputs": []
    },
    {
     "cell_type": "code",
     "collapsed": false,
     "input": [
      "from pathomx.displayobjects import Svg # We've got the html page; pull out the image\n",
      "\n",
      "with open(filename[1], 'rU') as f:\n",
      "    svg = f.read()\n",
      "View = Svg(svg)"
     ],
     "language": "python",
     "metadata": {},
     "outputs": []
    }
   ],
   "metadata": {}
  }
 ]
}