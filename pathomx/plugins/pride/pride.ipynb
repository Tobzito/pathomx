{
 "metadata": {
  "name": "",
  "signature": "sha256:7b2ee50cfd4fca622cd4e68070fbbb1ed47130787391bcf07013d9731d12d4f5"
 },
 "nbformat": 3,
 "nbformat_minor": 0,
 "worksheets": [
  {
   "cells": [
    {
     "cell_type": "markdown",
     "metadata": {},
     "source": [
      "PRIDE data Import\n",
      "=================\n",
      "\n",
      "Import data from the PRIDE PRoteomics IDEntifications (PRIDE) database.  \n",
      "[Martin A. Fitzpatrick][]\n",
      "\n",
      "Introduction\n",
      "------------\n",
      "\n",
      "The PRIDE PRoteomics IDEntifications (PRIDE) database is a centralized, standards compliant, public data repository for proteomics data, including protein and peptide identifications, post-translational modifications and supporting spectral evidence.\n",
      "\n",
      "Quick start\n",
      "-----------\n",
      "\n",
      "This plugin supports the import of quantified protein data only. To import the data simply load the downloaded file. Known proteins will be mapped to internal MetaCyc database.\n",
      "\n",
      "References\n",
      "----------\n",
      "\n",
      "1.  Kenneth Haug, Reza M. Salek, Pablo Conesa, Janna Hastings, Paula de Matos, Mark Rijnbeek, Tejasvi Mahendrakar, Mark Williams, Steffen Neumann, Philippe Rocca-Serra, Eamonn Maguire, Alejandra Gonz\u00e1lez-Beltr\u00e1n, Susanna-Assunta Sansone, Julian L. Griffin and Christoph Steinbeck. [MetaboLights\u2013 an open-access general-purpose repository for metabolomics studies and associated meta-data.][] Nucl. Acids Res. (2013) doi: 10.1093/nar/gks1004\n",
      "\n",
      "\n",
      "  [Martin A. Fitzpatrick]: http://martinfitzpatrick.name/\n",
      "  [MetaboLights\u2013 an open-access general-purpose repository for metabolomics studies and associated meta-data.]: http://nar.oxfordjournals.org/content/41/D1/D781"
     ]
    },
    {
     "cell_type": "code",
     "collapsed": false,
     "input": [
      "import pandas as pd\n",
      "import numpy as np\n",
      "\n",
      "import os\n",
      "import csv\n",
      "import tempfile\n",
      "import zipfile\n",
      "from collections import defaultdict"
     ],
     "language": "python",
     "metadata": {},
     "outputs": []
    },
    {
     "cell_type": "code",
     "collapsed": false,
     "input": [
      "#\u00a0Unzip into temporary folder\n",
      "folder = tempfile.mkdtemp()\n",
      "zf = zipfile.ZipFile(config['filename'])\n",
      "zf.extract('peptides.txt', folder)  \n",
      "\n",
      "datafile = os.path.join(folder, 'peptides.txt')\n",
      "\n",
      "# Read in data for the graphing metabolite, with associated value (generate mean)\n",
      "with open(datafile, 'r') as f:\n",
      "    reader = csv.reader(f, delimiter='\\t', dialect='excel')\n",
      "\n",
      "    # Get top row\n",
      "    row = reader.next()\n",
      "\n",
      "    # Get columns for protein identities; leading is the top-ranked use preferentially\n",
      "    # else use the proteins col (should use all identities?)\n",
      "    proteins_col = row.index('Proteins') if 'Proteins' in row else None\n",
      "    lead_protein_col = row.index('Leading razor protein') if 'Leading razor protein' in row else None\n",
      "\n",
      "    # Row labels for quants is give as Intensity followed by the class name\n",
      "    # so find all cols with Intensity\\s<something> headers and extract the labels + data\n",
      "    labels = []\n",
      "    labelsc = []\n",
      "\n",
      "    for n, c in enumerate(row):\n",
      "        if 'Intensity ' in c:\n",
      "            # Quantification column\n",
      "            labelsn = c.replace('Intensity ', '')\n",
      "            labels.append( labelsn )\n",
      "            labelsc.append( n )\n",
      "        \n",
      "\n",
      "    raw_data = []\n",
      "    entities = []\n",
      "\n",
      "    # Now get data    \n",
      "    for n, row in enumerate(reader):\n",
      "\n",
      "        datar = [float(row[x]) for x in labelsc]\n",
      "        raw_data.append( datar )\n",
      "\n",
      "        entity = None\n",
      "\n",
      "        # Identify protein\n",
      "        if lead_protein_col:\n",
      "            entity = row[ lead_protein_col ]\n",
      "\n",
      "        if entity == None and proteins_col:\n",
      "            entity = row[ proteins_col ].split(';')[0]\n",
      "\n",
      "        entities.append( entity )\n"
     ],
     "language": "python",
     "metadata": {},
     "outputs": []
    },
    {
     "cell_type": "markdown",
     "metadata": {},
     "source": [
      "We've loaded the data now and have all entity info etc. so construct a Pandas dataframe for output."
     ]
    },
    {
     "cell_type": "code",
     "collapsed": false,
     "input": [
      "output_data = pd.DataFrame(np.array(raw_data).T)\n",
      "output_data.index = pd.MultiIndex.from_tuples( zip(labels), names=[\"Sample\"])\n",
      "output_data.columns = pd.MultiIndex.from_tuples( zip(range(n+1), entities), names=[\"Measurement\",\"UniProt\"])"
     ],
     "language": "python",
     "metadata": {},
     "outputs": []
    },
    {
     "cell_type": "code",
     "collapsed": false,
     "input": [
      "output_data"
     ],
     "language": "python",
     "metadata": {},
     "outputs": []
    },
    {
     "cell_type": "code",
     "collapsed": false,
     "input": [
      "# Generate simple result figure (using pathomx libs)\n",
      "from pathomx.figures import spectra\n",
      "\n",
      "View = spectra(output_data, styles=styles);\n"
     ],
     "language": "python",
     "metadata": {},
     "outputs": []
    }
   ],
   "metadata": {}
  }
 ]
}